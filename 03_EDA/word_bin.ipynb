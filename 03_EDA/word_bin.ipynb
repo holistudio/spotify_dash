{
 "cells": [
  {
   "cell_type": "markdown",
   "id": "33dd2089",
   "metadata": {},
   "source": [
    "# Word Bin Counts Analysis"
   ]
  },
  {
   "cell_type": "code",
   "execution_count": 1,
   "id": "4f31943a",
   "metadata": {},
   "outputs": [],
   "source": [
    "import os\n",
    "import json\n",
    "import datetime\n",
    "\n",
    "import pandas as pd\n",
    "import numpy as np\n",
    "import matplotlib.pyplot as plt\n",
    "import seaborn as sns"
   ]
  },
  {
   "cell_type": "markdown",
   "id": "5100d8a2",
   "metadata": {},
   "source": [
    "## Load Data"
   ]
  },
  {
   "cell_type": "code",
   "execution_count": 2,
   "id": "acd11d8c",
   "metadata": {},
   "outputs": [],
   "source": [
    "dataset_dir = os.path.join('..','..','datasets','tracks_playlist_dataset')\n",
    "\n",
    "json_file_path = os.path.join(dataset_dir,'word_count_data.json')\n",
    "\n",
    "with open(json_file_path, 'r') as f:\n",
    "    data = json.load(f)"
   ]
  },
  {
   "cell_type": "code",
   "execution_count": 3,
   "id": "096269dd",
   "metadata": {},
   "outputs": [
    {
     "data": {
      "text/plain": [
       "['favorite',\n",
       " 'calming',\n",
       " 'study',\n",
       " 'diaries',\n",
       " 'soothing',\n",
       " 'mack',\n",
       " 'sleep',\n",
       " 'camille',\n",
       " 'mellow',\n",
       " 'sleeep']"
      ]
     },
     "execution_count": 3,
     "metadata": {},
     "output_type": "execute_result"
    }
   ],
   "source": [
    "list(data['global'].keys())[:10]"
   ]
  },
  {
   "cell_type": "markdown",
   "id": "24ac2d1c",
   "metadata": {},
   "source": [
    "## Global Word Count Analysis"
   ]
  },
  {
   "cell_type": "code",
   "execution_count": 4,
   "id": "700c8f6a",
   "metadata": {},
   "outputs": [],
   "source": [
    "# get sorted list of words across all tracks ranked by bin count\n",
    "global_word_bins = data['global']\n",
    "global_sorted_words = sorted(global_word_bins.items(), key=lambda x: x[1], reverse=True)"
   ]
  },
  {
   "cell_type": "code",
   "execution_count": 5,
   "id": "0e949624",
   "metadata": {},
   "outputs": [
    {
     "data": {
      "text/plain": [
       "[('rock', 409894),\n",
       " ('oldies', 147719),\n",
       " ('classic', 147634),\n",
       " ('party', 128832),\n",
       " ('summer', 126412),\n",
       " ('good', 119145),\n",
       " ('chill', 113242),\n",
       " ('old', 107009),\n",
       " ('classics', 79934),\n",
       " ('workout', 79276)]"
      ]
     },
     "execution_count": 5,
     "metadata": {},
     "output_type": "execute_result"
    }
   ],
   "source": [
    "global_sorted_words[:10]"
   ]
  },
  {
   "cell_type": "code",
   "execution_count": 6,
   "id": "bbbd658b",
   "metadata": {},
   "outputs": [
    {
     "data": {
      "text/plain": [
       "[('bandona', 1),\n",
       " ('kiko', 1),\n",
       " ('cumbiaa', 1),\n",
       " ('norteña', 1),\n",
       " ('conjunto', 1),\n",
       " ('grupo', 1),\n",
       " ('ajua', 1),\n",
       " ('rebelution', 1),\n",
       " ('mirrey', 1),\n",
       " ('salseando', 1)]"
      ]
     },
     "execution_count": 6,
     "metadata": {},
     "output_type": "execute_result"
    }
   ],
   "source": [
    "global_sorted_words[-10:]"
   ]
  },
  {
   "cell_type": "markdown",
   "id": "19e39a67",
   "metadata": {},
   "source": [
    "## Bin Count DataFrame"
   ]
  },
  {
   "cell_type": "code",
   "execution_count": null,
   "id": "30cf61c8",
   "metadata": {},
   "outputs": [],
   "source": []
  }
 ],
 "metadata": {
  "kernelspec": {
   "display_name": "learn-ds",
   "language": "python",
   "name": "python3"
  },
  "language_info": {
   "codemirror_mode": {
    "name": "ipython",
    "version": 3
   },
   "file_extension": ".py",
   "mimetype": "text/x-python",
   "name": "python",
   "nbconvert_exporter": "python",
   "pygments_lexer": "ipython3",
   "version": "3.9.7"
  }
 },
 "nbformat": 4,
 "nbformat_minor": 5
}
