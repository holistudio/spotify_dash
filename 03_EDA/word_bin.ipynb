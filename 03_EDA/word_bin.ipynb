{
 "cells": [
  {
   "cell_type": "markdown",
   "id": "33dd2089",
   "metadata": {},
   "source": [
    "# Word Bin Counts Analysis"
   ]
  },
  {
   "cell_type": "code",
   "execution_count": null,
   "id": "4f31943a",
   "metadata": {},
   "outputs": [],
   "source": [
    "import pandas as pd\n",
    "import numpy as np\n",
    "import matplotlib.pyplot as plt\n",
    "import seaborn as sns"
   ]
  },
  {
   "cell_type": "markdown",
   "id": "5100d8a2",
   "metadata": {},
   "source": [
    "## Load Data"
   ]
  },
  {
   "cell_type": "code",
   "execution_count": null,
   "id": "acd11d8c",
   "metadata": {},
   "outputs": [],
   "source": []
  },
  {
   "cell_type": "markdown",
   "id": "24ac2d1c",
   "metadata": {},
   "source": [
    "## Global Word Count Analysis"
   ]
  },
  {
   "cell_type": "code",
   "execution_count": null,
   "id": "700c8f6a",
   "metadata": {},
   "outputs": [],
   "source": []
  },
  {
   "cell_type": "markdown",
   "id": "19e39a67",
   "metadata": {},
   "source": [
    "## Bin Count DataFrame"
   ]
  },
  {
   "cell_type": "code",
   "execution_count": null,
   "id": "30cf61c8",
   "metadata": {},
   "outputs": [],
   "source": []
  }
 ],
 "metadata": {
  "kernelspec": {
   "display_name": "learn-ds",
   "language": "python",
   "name": "python3"
  },
  "language_info": {
   "name": "python",
   "version": "3.9.7"
  }
 },
 "nbformat": 4,
 "nbformat_minor": 5
}
