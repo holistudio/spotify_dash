{
 "cells": [
  {
   "cell_type": "markdown",
   "id": "33dd2089",
   "metadata": {},
   "source": [
    "# Word Bin Counts Analysis"
   ]
  },
  {
   "cell_type": "code",
   "execution_count": 1,
   "id": "4f31943a",
   "metadata": {},
   "outputs": [],
   "source": [
    "import os\n",
    "import json\n",
    "import random\n",
    "import datetime\n",
    "\n",
    "import pandas as pd\n",
    "import numpy as np\n",
    "import matplotlib.pyplot as plt\n",
    "import seaborn as sns"
   ]
  },
  {
   "cell_type": "markdown",
   "id": "5100d8a2",
   "metadata": {},
   "source": [
    "## Load Data"
   ]
  },
  {
   "cell_type": "code",
   "execution_count": 2,
   "id": "acd11d8c",
   "metadata": {},
   "outputs": [],
   "source": [
    "dataset_dir = os.path.join('..','..','datasets','tracks_playlist_dataset')\n",
    "\n",
    "json_file_path = os.path.join(dataset_dir,'word_count_data.json')\n",
    "\n",
    "with open(json_file_path, 'r') as f:\n",
    "    data = json.load(f)"
   ]
  },
  {
   "cell_type": "code",
   "execution_count": 3,
   "id": "096269dd",
   "metadata": {},
   "outputs": [
    {
     "data": {
      "text/plain": [
       "['low',\n",
       " 'calm',\n",
       " 'poison',\n",
       " 'winter',\n",
       " 'coffee',\n",
       " 'tea',\n",
       " 'wanderlust',\n",
       " 'mack',\n",
       " 'other',\n",
       " 'out']"
      ]
     },
     "execution_count": 3,
     "metadata": {},
     "output_type": "execute_result"
    }
   ],
   "source": [
    "list(data['global'].keys())[:10]"
   ]
  },
  {
   "cell_type": "markdown",
   "id": "24ac2d1c",
   "metadata": {},
   "source": [
    "## Global Word Count Analysis"
   ]
  },
  {
   "cell_type": "code",
   "execution_count": 4,
   "id": "700c8f6a",
   "metadata": {},
   "outputs": [],
   "source": [
    "# get sorted list of words across all tracks ranked by bin count\n",
    "global_word_bins = data['global']\n",
    "global_sorted_words = sorted(global_word_bins.items(), key=lambda x: x[1], reverse=True)"
   ]
  },
  {
   "cell_type": "code",
   "execution_count": 5,
   "id": "0e949624",
   "metadata": {},
   "outputs": [
    {
     "data": {
      "text/plain": [
       "[('rock', 409894),\n",
       " ('oldies', 147719),\n",
       " ('classic', 147634),\n",
       " ('party', 128832),\n",
       " ('summer', 126412),\n",
       " ('good', 119145),\n",
       " ('chill', 113242),\n",
       " ('old', 107009),\n",
       " ('classics', 79934),\n",
       " ('workout', 79276)]"
      ]
     },
     "execution_count": 5,
     "metadata": {},
     "output_type": "execute_result"
    }
   ],
   "source": [
    "global_sorted_words[:10]"
   ]
  },
  {
   "cell_type": "code",
   "execution_count": 6,
   "id": "bbbd658b",
   "metadata": {},
   "outputs": [
    {
     "data": {
      "text/plain": [
       "[('bandona', 1),\n",
       " ('kiko', 1),\n",
       " ('cumbiaa', 1),\n",
       " ('conjunto', 1),\n",
       " ('norteña', 1),\n",
       " ('ajua', 1),\n",
       " ('grupo', 1),\n",
       " ('rebelution', 1),\n",
       " ('salseando', 1),\n",
       " ('mirrey', 1)]"
      ]
     },
     "execution_count": 6,
     "metadata": {},
     "output_type": "execute_result"
    }
   ],
   "source": [
    "global_sorted_words[-10:]"
   ]
  },
  {
   "cell_type": "code",
   "execution_count": 7,
   "id": "5ae581ef",
   "metadata": {},
   "outputs": [
    {
     "data": {
      "text/plain": [
       "array([409894, 147719, 147634, 128832, 126412, 119145, 113242, 107009,\n",
       "        79934,  79276])"
      ]
     },
     "execution_count": 7,
     "metadata": {},
     "output_type": "execute_result"
    }
   ],
   "source": [
    "bin_counts = np.array([x[1] for x in global_sorted_words])\n",
    "bin_counts[:10]"
   ]
  },
  {
   "cell_type": "code",
   "execution_count": 8,
   "id": "92996894",
   "metadata": {},
   "outputs": [
    {
     "data": {
      "text/plain": [
       "9275"
      ]
     },
     "execution_count": 8,
     "metadata": {},
     "output_type": "execute_result"
    }
   ],
   "source": [
    "# How many words total\n",
    "len(global_sorted_words)"
   ]
  },
  {
   "cell_type": "code",
   "execution_count": 9,
   "id": "4363a60e",
   "metadata": {},
   "outputs": [
    {
     "data": {
      "text/plain": [
       "409894"
      ]
     },
     "execution_count": 9,
     "metadata": {},
     "output_type": "execute_result"
    }
   ],
   "source": [
    "int(np.max(bin_counts))"
   ]
  },
  {
   "cell_type": "code",
   "execution_count": 10,
   "id": "22a01a83",
   "metadata": {},
   "outputs": [
    {
     "data": {
      "text/plain": [
       "147719"
      ]
     },
     "execution_count": 10,
     "metadata": {},
     "output_type": "execute_result"
    }
   ],
   "source": [
    "int(np.max(bin_counts[1:]))"
   ]
  },
  {
   "cell_type": "code",
   "execution_count": 11,
   "id": "55136d56",
   "metadata": {},
   "outputs": [
    {
     "data": {
      "text/plain": [
       "296"
      ]
     },
     "execution_count": 11,
     "metadata": {},
     "output_type": "execute_result"
    }
   ],
   "source": [
    "# How many words with only 1 bin count\n",
    "int(sum(bin_counts == 1))"
   ]
  },
  {
   "cell_type": "code",
   "execution_count": 12,
   "id": "a1c1639a",
   "metadata": {},
   "outputs": [
    {
     "name": "stdout",
     "output_type": "stream",
     "text": [
      "[100.0, 1000.0, 10000.0, 100000.0, 1000000.0]\n",
      "[5143. 8616. 9194. 9267. 9275.]\n"
     ]
    }
   ],
   "source": [
    "thresholds = [1e2, 1e3, 1e4, 1e5, 1e6]\n",
    "order_counts = np.zeros(len(thresholds))\n",
    "\n",
    "for i,t in enumerate(thresholds):\n",
    "    order_counts[i] = int(sum(bin_counts < t))\n",
    "\n",
    "print(thresholds)\n",
    "print(order_counts)"
   ]
  },
  {
   "cell_type": "code",
   "execution_count": 13,
   "id": "ed268360",
   "metadata": {},
   "outputs": [
    {
     "name": "stdout",
     "output_type": "stream",
     "text": [
      "4132\n"
     ]
    }
   ],
   "source": [
    "for i in range(len(bin_counts)):\n",
    "    if bin_counts[i]<100:\n",
    "        print(i)\n",
    "        break"
   ]
  },
  {
   "cell_type": "code",
   "execution_count": 14,
   "id": "f57959eb",
   "metadata": {},
   "outputs": [
    {
     "name": "stdout",
     "output_type": "stream",
     "text": [
      "1892\n"
     ]
    }
   ],
   "source": [
    "for i in range(len(bin_counts)):\n",
    "    if bin_counts[i]<300:\n",
    "        print(i)\n",
    "        break"
   ]
  },
  {
   "cell_type": "code",
   "execution_count": 15,
   "id": "3dd07099",
   "metadata": {},
   "outputs": [
    {
     "name": "stdout",
     "output_type": "stream",
     "text": [
      "659\n"
     ]
    }
   ],
   "source": [
    "for i in range(len(bin_counts)):\n",
    "    if bin_counts[i]<1000:\n",
    "        print(i)\n",
    "        break"
   ]
  },
  {
   "cell_type": "code",
   "execution_count": 16,
   "id": "071f45ef",
   "metadata": {},
   "outputs": [
    {
     "name": "stdout",
     "output_type": "stream",
     "text": [
      "81\n"
     ]
    }
   ],
   "source": [
    "for i in range(len(bin_counts)):\n",
    "    if bin_counts[i]<10000:\n",
    "        print(i)\n",
    "        break"
   ]
  },
  {
   "cell_type": "code",
   "execution_count": 17,
   "id": "7d75043e",
   "metadata": {},
   "outputs": [],
   "source": [
    "# bin_counts_rev = bin_counts[::-1]\n",
    "# incs = np.zeros(len(bin_counts_rev)-1)\n",
    "# for i in range(len(bin_counts_rev)-1):\n",
    "#     val = bin_counts_rev[i]\n",
    "#     next_val = bin_counts_rev[i+1]\n",
    "#     incs[i] = next_val - val\n",
    "#     if len(str(next_val)) == len(str(val)) + 1:\n",
    "#         print(i)"
   ]
  },
  {
   "cell_type": "code",
   "execution_count": 18,
   "id": "5d9ea1e2",
   "metadata": {},
   "outputs": [],
   "source": [
    "# ix = 1479\n",
    "# print(bin_counts_rev[ix-10:ix+1])\n",
    "# print(incs[ix-10:ix+1])"
   ]
  },
  {
   "cell_type": "code",
   "execution_count": 19,
   "id": "28b2389b",
   "metadata": {},
   "outputs": [],
   "source": [
    "# ix = 5344\n",
    "# print(bin_counts_rev[ix-10:ix+1])\n",
    "# print(incs[ix-10:ix+1])"
   ]
  },
  {
   "cell_type": "code",
   "execution_count": 20,
   "id": "535eda11",
   "metadata": {},
   "outputs": [],
   "source": [
    "# thres = 19\n",
    "# for i in range(10,len(incs)):\n",
    "#     prev_avg = np.mean(incs[i-10:i])\n",
    "\n",
    "#     if prev_avg > 0:\n",
    "#         v = incs[i]\n",
    "#         diff = v - prev_avg\n",
    "#         if diff/prev_avg > thres:\n",
    "#             print(i)\n",
    "#             print(v)\n",
    "#             print(incs[i-10:i])\n",
    "#             # print(prev_avg)\n",
    "#             # print(diff)\n",
    "#             print(diff/prev_avg)\n",
    "#             print(bin_counts_rev[i])\n",
    "#             print(bin_counts_rev[i-10:i])\n",
    "#             break"
   ]
  },
  {
   "cell_type": "code",
   "execution_count": 21,
   "id": "750c17b1",
   "metadata": {},
   "outputs": [],
   "source": [
    "# non_zero_incs = []\n",
    "# for v in incs:\n",
    "#     if v > 10:\n",
    "#         non_zero_incs.append(v)\n",
    "# non_zero_incs[:10]"
   ]
  },
  {
   "cell_type": "code",
   "execution_count": 22,
   "id": "b3f31019",
   "metadata": {},
   "outputs": [
    {
     "data": {
      "image/png": "[encoded data removed]",
      "text/plain": [
       "<Figure size 640x480 with 1 Axes>"
      ]
     },
     "metadata": {},
     "output_type": "display_data"
    }
   ],
   "source": [
    "# sns.barplot(data=bin_counts)\n",
    "# plt.xlabel(\"word_i\",fontsize=20)\n",
    "# plt.ylabel(\"Frequency\",fontsize=20)\n",
    "# plt.show()\n",
    "\n",
    "# sns.barplot(data=bin_counts[:4739])\n",
    "# plt.xlabel(\"word_i\",fontsize=20)\n",
    "# plt.ylabel(\"Frequency\",fontsize=20)\n",
    "# plt.show()\n",
    "\n",
    "# sns.barplot(data=bin_counts[1:4739])\n",
    "# plt.xlabel(\"word_i\",fontsize=20)\n",
    "# plt.ylabel(\"Frequency\",fontsize=20)\n",
    "# plt.show()\n",
    "\n",
    "# sns.barplot(data=bin_counts[1:691])\n",
    "# plt.xlabel(\"word_i\",fontsize=20)\n",
    "# plt.ylabel(\"Frequency\",fontsize=20)\n",
    "# plt.show()\n",
    "\n",
    "sns.barplot(data=bin_counts[1:84])\n",
    "plt.xlabel(\"word_i\",fontsize=20)\n",
    "plt.ylabel(\"Frequency\",fontsize=20)\n",
    "plt.show()"
   ]
  },
  {
   "cell_type": "code",
   "execution_count": 23,
   "id": "24d93cb0",
   "metadata": {},
   "outputs": [
    {
     "data": {
      "image/png": "[encoded data removed]",
      "text/plain": [
       "<Figure size 640x480 with 1 Axes>"
      ]
     },
     "metadata": {},
     "output_type": "display_data"
    }
   ],
   "source": [
    "# sns.boxplot(x=bin_counts)\n",
    "# plt.show()\n",
    "\n",
    "# sns.boxplot(x=bin_counts[:4739])\n",
    "# plt.show()\n",
    "\n",
    "# sns.boxplot(x=bin_counts[1:4739])\n",
    "# plt.show()\n",
    "\n",
    "# sns.boxplot(x=bin_counts[1:691])\n",
    "# plt.show()\n",
    "\n",
    "sns.boxplot(x=bin_counts[1:83])\n",
    "plt.show()"
   ]
  },
  {
   "cell_type": "code",
   "execution_count": 24,
   "id": "a4821f2d",
   "metadata": {},
   "outputs": [
    {
     "name": "stdout",
     "output_type": "stream",
     "text": [
      "Lower whisker: 9858\n",
      "Q1: 14295.25\n",
      "Median: 20679.5\n",
      "Q3: 40653.5\n",
      "Upper whisker: 79934\n"
     ]
    }
   ],
   "source": [
    "q1 = np.percentile(bin_counts[1:83], 25)\n",
    "q3 = np.percentile(bin_counts[1:83], 75)\n",
    "iqr = q3 - q1\n",
    "\n",
    "lower_whisker = np.min(bin_counts[1:83][bin_counts[1:83] >= q1 - 1.5 * iqr])\n",
    "upper_whisker = np.max(bin_counts[1:83][bin_counts[1:83] <= q3 + 1.5 * iqr])\n",
    "\n",
    "print(\"Lower whisker:\", lower_whisker)\n",
    "print(\"Q1:\", q1)\n",
    "print(\"Median:\", np.median(bin_counts[1:83]))\n",
    "print(\"Q3:\", q3)\n",
    "print(\"Upper whisker:\", upper_whisker)\n"
   ]
  },
  {
   "cell_type": "code",
   "execution_count": 25,
   "id": "0e724f2c",
   "metadata": {},
   "outputs": [
    {
     "name": "stdout",
     "output_type": "stream",
     "text": [
      "['empowerment', 'fingers', 'addiction', 'aaron', 'bbg', 'forget', 'punch', 'cody', 'lee', 'relaxxx']\n"
     ]
    }
   ],
   "source": [
    "filtered_words = [word for word, count in global_sorted_words if 100 <= count < 1000]\n",
    "random_words = random.sample(filtered_words, min(10, len(filtered_words)))\n",
    "\n",
    "print(random_words)"
   ]
  },
  {
   "cell_type": "code",
   "execution_count": 26,
   "id": "f7f779b8",
   "metadata": {},
   "outputs": [
    {
     "name": "stdout",
     "output_type": "stream",
     "text": [
      "['birthday', 'dads', 'girl', 'classy', 'vroom', 'oldschool', 'only', 'camping', 'trips', 'sunny']\n"
     ]
    }
   ],
   "source": [
    "filtered_words = [word for word, count in global_sorted_words if 1000 <= count < 10000]\n",
    "random_words = random.sample(filtered_words, min(10, len(filtered_words)))\n",
    "\n",
    "print(random_words)"
   ]
  },
  {
   "cell_type": "code",
   "execution_count": 27,
   "id": "5b0e4ea5",
   "metadata": {},
   "outputs": [
    {
     "name": "stdout",
     "output_type": "stream",
     "text": [
      "['favorite', 'soft', 'classics', 'halloween', 'throwback', 'nostalgia', 'cool', 'tbt', 'dad', 'throwbacks']\n"
     ]
    }
   ],
   "source": [
    "filtered_words = [word for word, count in global_sorted_words if 10000 <= count < 100000]\n",
    "random_words = random.sample(filtered_words, min(10, len(filtered_words)))\n",
    "\n",
    "print(random_words)"
   ]
  },
  {
   "cell_type": "code",
   "execution_count": 28,
   "id": "5b84eb61",
   "metadata": {},
   "outputs": [
    {
     "name": "stdout",
     "output_type": "stream",
     "text": [
      "['rock', 'chill', 'old', 'classic', 'oldies', 'party', 'good', 'summer']\n"
     ]
    }
   ],
   "source": [
    "filtered_words = [word for word, count in global_sorted_words if 100000 <= count < 1000000]\n",
    "random_words = random.sample(filtered_words, min(10, len(filtered_words)))\n",
    "\n",
    "print(random_words)"
   ]
  },
  {
   "cell_type": "markdown",
   "id": "f5337a68",
   "metadata": {},
   "source": [
    "### Findings\n",
    "\n",
    " - 'rock' is the most common playlist word at ~400,000 count\n",
    " - next most common words are at ~100,000 count\n",
    " - Of the ~9,000 words counted across tracks:\n",
    "   - 4,379 words are above 100\n",
    "   - 1,983 words are above 300\n",
    "   - 691 words are above 1000\n",
    "   - 83 words are above 10,000\n",
    " - Consider doing a final bin count for each track using the 1,983 possible words\n",
    "   - Too few words may lead to uninteresting possible dashboard results regarding the words\n",
    "   - Too many words may be computationally expensive to filter and sort and visualize."
   ]
  },
  {
   "cell_type": "markdown",
   "id": "19e39a67",
   "metadata": {},
   "source": [
    "## Bin Count DataFrame"
   ]
  },
  {
   "cell_type": "code",
   "execution_count": 29,
   "id": "30cf61c8",
   "metadata": {},
   "outputs": [
    {
     "data": {
      "text/plain": [
       "['rock',\n",
       " 'oldies',\n",
       " 'classic',\n",
       " 'party',\n",
       " 'summer',\n",
       " 'good',\n",
       " 'chill',\n",
       " 'old',\n",
       " 'classics',\n",
       " 'workout']"
      ]
     },
     "execution_count": 29,
     "metadata": {},
     "output_type": "execute_result"
    }
   ],
   "source": [
    "word_columns = [word for word, count in global_sorted_words if 1000 <= count]\n",
    "word_columns[:10]"
   ]
  },
  {
   "cell_type": "code",
   "execution_count": 30,
   "id": "2ec1536e",
   "metadata": {},
   "outputs": [
    {
     "data": {
      "text/html": [
       "<div>\n",
       "<style scoped>\n",
       "    .dataframe tbody tr th:only-of-type {\n",
       "        vertical-align: middle;\n",
       "    }\n",
       "\n",
       "    .dataframe tbody tr th {\n",
       "        vertical-align: top;\n",
       "    }\n",
       "\n",
       "    .dataframe thead th {\n",
       "        text-align: right;\n",
       "    }\n",
       "</style>\n",
       "<table border=\"1\" class=\"dataframe\">\n",
       "  <thead>\n",
       "    <tr style=\"text-align: right;\">\n",
       "      <th></th>\n",
       "      <th>track_id</th>\n",
       "      <th>artists</th>\n",
       "      <th>album_name</th>\n",
       "      <th>track_name</th>\n",
       "      <th>popularity</th>\n",
       "      <th>duration_ms</th>\n",
       "      <th>explicit</th>\n",
       "      <th>danceability</th>\n",
       "      <th>energy</th>\n",
       "      <th>key</th>\n",
       "      <th>...</th>\n",
       "      <th>mode</th>\n",
       "      <th>speechiness</th>\n",
       "      <th>acousticness</th>\n",
       "      <th>instrumentalness</th>\n",
       "      <th>liveness</th>\n",
       "      <th>valence</th>\n",
       "      <th>tempo</th>\n",
       "      <th>time_signature</th>\n",
       "      <th>track_genre</th>\n",
       "      <th>playlist_names</th>\n",
       "    </tr>\n",
       "  </thead>\n",
       "  <tbody>\n",
       "    <tr>\n",
       "      <th>0</th>\n",
       "      <td>7k9GuJYLp2AzqokyEdwEw2</td>\n",
       "      <td>Ross Copperman</td>\n",
       "      <td>Hunger</td>\n",
       "      <td>Hunger</td>\n",
       "      <td>56</td>\n",
       "      <td>205594</td>\n",
       "      <td>False</td>\n",
       "      <td>0.442</td>\n",
       "      <td>0.632</td>\n",
       "      <td>1</td>\n",
       "      <td>...</td>\n",
       "      <td>1</td>\n",
       "      <td>0.0295</td>\n",
       "      <td>0.426</td>\n",
       "      <td>0.004190</td>\n",
       "      <td>0.0735</td>\n",
       "      <td>0.1960</td>\n",
       "      <td>78.899</td>\n",
       "      <td>4</td>\n",
       "      <td>acoustic</td>\n",
       "      <td>high, high, AUTUMN, Vampire Diaries, sleep, i ...</td>\n",
       "    </tr>\n",
       "    <tr>\n",
       "      <th>1</th>\n",
       "      <td>1KHdq8NK9QxnGjdXb55NiG</td>\n",
       "      <td>Landon Pigg</td>\n",
       "      <td>The Boy Who Never</td>\n",
       "      <td>Falling in Love at a Coffee Shop</td>\n",
       "      <td>58</td>\n",
       "      <td>244986</td>\n",
       "      <td>False</td>\n",
       "      <td>0.489</td>\n",
       "      <td>0.561</td>\n",
       "      <td>4</td>\n",
       "      <td>...</td>\n",
       "      <td>1</td>\n",
       "      <td>0.0274</td>\n",
       "      <td>0.200</td>\n",
       "      <td>0.000046</td>\n",
       "      <td>0.1790</td>\n",
       "      <td>0.2380</td>\n",
       "      <td>83.457</td>\n",
       "      <td>3</td>\n",
       "      <td>acoustic</td>\n",
       "      <td>Say You Won't Let Go, mellow, Dance, Chillin, ...</td>\n",
       "    </tr>\n",
       "    <tr>\n",
       "      <th>2</th>\n",
       "      <td>2qLMf6TuEC3ruGJg4SMMN6</td>\n",
       "      <td>Jason Mraz;Colbie Caillat</td>\n",
       "      <td>We Sing. We Dance. We Steal Things.</td>\n",
       "      <td>Lucky</td>\n",
       "      <td>68</td>\n",
       "      <td>189613</td>\n",
       "      <td>False</td>\n",
       "      <td>0.625</td>\n",
       "      <td>0.414</td>\n",
       "      <td>0</td>\n",
       "      <td>...</td>\n",
       "      <td>1</td>\n",
       "      <td>0.0369</td>\n",
       "      <td>0.294</td>\n",
       "      <td>0.000000</td>\n",
       "      <td>0.1510</td>\n",
       "      <td>0.6690</td>\n",
       "      <td>130.088</td>\n",
       "      <td>4</td>\n",
       "      <td>acoustic</td>\n",
       "      <td>Wedding, #boostyourrun, go to, Acoustic, 😍😍😍, ...</td>\n",
       "    </tr>\n",
       "    <tr>\n",
       "      <th>3</th>\n",
       "      <td>3S0OXQeoh0w6AY8WQVckRW</td>\n",
       "      <td>Jason Mraz</td>\n",
       "      <td>We Sing. We Dance. We Steal Things.</td>\n",
       "      <td>I'm Yours</td>\n",
       "      <td>75</td>\n",
       "      <td>242946</td>\n",
       "      <td>False</td>\n",
       "      <td>0.703</td>\n",
       "      <td>0.444</td>\n",
       "      <td>11</td>\n",
       "      <td>...</td>\n",
       "      <td>1</td>\n",
       "      <td>0.0417</td>\n",
       "      <td>0.559</td>\n",
       "      <td>0.000000</td>\n",
       "      <td>0.0973</td>\n",
       "      <td>0.7120</td>\n",
       "      <td>150.960</td>\n",
       "      <td>4</td>\n",
       "      <td>acoustic</td>\n",
       "      <td>tb, Catchy Songs, #boostyourrun, go to, Atlas,...</td>\n",
       "    </tr>\n",
       "    <tr>\n",
       "      <th>4</th>\n",
       "      <td>5TvE3pk05pyFIGdSY9j4DJ</td>\n",
       "      <td>A Great Big World;Christina Aguilera</td>\n",
       "      <td>Is There Anybody Out There? - Track by Track C...</td>\n",
       "      <td>Say Something</td>\n",
       "      <td>70</td>\n",
       "      <td>229400</td>\n",
       "      <td>False</td>\n",
       "      <td>0.407</td>\n",
       "      <td>0.147</td>\n",
       "      <td>2</td>\n",
       "      <td>...</td>\n",
       "      <td>1</td>\n",
       "      <td>0.0355</td>\n",
       "      <td>0.857</td>\n",
       "      <td>0.000003</td>\n",
       "      <td>0.0913</td>\n",
       "      <td>0.0765</td>\n",
       "      <td>141.284</td>\n",
       "      <td>3</td>\n",
       "      <td>acoustic</td>\n",
       "      <td>~Rando~, go to, Solitude, Acoustic, happy, yo,...</td>\n",
       "    </tr>\n",
       "  </tbody>\n",
       "</table>\n",
       "<p>5 rows × 21 columns</p>\n",
       "</div>"
      ],
      "text/plain": [
       "                 track_id                               artists  \\\n",
       "0  7k9GuJYLp2AzqokyEdwEw2                        Ross Copperman   \n",
       "1  1KHdq8NK9QxnGjdXb55NiG                           Landon Pigg   \n",
       "2  2qLMf6TuEC3ruGJg4SMMN6             Jason Mraz;Colbie Caillat   \n",
       "3  3S0OXQeoh0w6AY8WQVckRW                            Jason Mraz   \n",
       "4  5TvE3pk05pyFIGdSY9j4DJ  A Great Big World;Christina Aguilera   \n",
       "\n",
       "                                          album_name  \\\n",
       "0                                             Hunger   \n",
       "1                                  The Boy Who Never   \n",
       "2                We Sing. We Dance. We Steal Things.   \n",
       "3                We Sing. We Dance. We Steal Things.   \n",
       "4  Is There Anybody Out There? - Track by Track C...   \n",
       "\n",
       "                         track_name popularity duration_ms explicit  \\\n",
       "0                            Hunger         56      205594    False   \n",
       "1  Falling in Love at a Coffee Shop         58      244986    False   \n",
       "2                             Lucky         68      189613    False   \n",
       "3                         I'm Yours         75      242946    False   \n",
       "4                     Say Something         70      229400    False   \n",
       "\n",
       "   danceability  energy key  ...  mode speechiness  acousticness  \\\n",
       "0         0.442   0.632   1  ...     1      0.0295         0.426   \n",
       "1         0.489   0.561   4  ...     1      0.0274         0.200   \n",
       "2         0.625   0.414   0  ...     1      0.0369         0.294   \n",
       "3         0.703   0.444  11  ...     1      0.0417         0.559   \n",
       "4         0.407   0.147   2  ...     1      0.0355         0.857   \n",
       "\n",
       "   instrumentalness  liveness  valence    tempo  time_signature track_genre  \\\n",
       "0          0.004190    0.0735   0.1960   78.899               4    acoustic   \n",
       "1          0.000046    0.1790   0.2380   83.457               3    acoustic   \n",
       "2          0.000000    0.1510   0.6690  130.088               4    acoustic   \n",
       "3          0.000000    0.0973   0.7120  150.960               4    acoustic   \n",
       "4          0.000003    0.0913   0.0765  141.284               3    acoustic   \n",
       "\n",
       "                                      playlist_names  \n",
       "0  high, high, AUTUMN, Vampire Diaries, sleep, i ...  \n",
       "1  Say You Won't Let Go, mellow, Dance, Chillin, ...  \n",
       "2  Wedding, #boostyourrun, go to, Acoustic, 😍😍😍, ...  \n",
       "3  tb, Catchy Songs, #boostyourrun, go to, Atlas,...  \n",
       "4  ~Rando~, go to, Solitude, Acoustic, happy, yo,...  \n",
       "\n",
       "[5 rows x 21 columns]"
      ]
     },
     "execution_count": 30,
     "metadata": {},
     "output_type": "execute_result"
    }
   ],
   "source": [
    "tracks_filepath = os.path.join(dataset_dir,'tracks_playlists_df.pkl')\n",
    "tracks_df = pd.read_pickle(tracks_filepath)\n",
    "tracks_df.head()"
   ]
  },
  {
   "cell_type": "code",
   "execution_count": 31,
   "id": "024dce09",
   "metadata": {},
   "outputs": [
    {
     "data": {
      "text/plain": [
       "['track_id',\n",
       " 'artists',\n",
       " 'album_name',\n",
       " 'track_name',\n",
       " 'popularity',\n",
       " 'duration_ms',\n",
       " 'explicit',\n",
       " 'danceability',\n",
       " 'energy',\n",
       " 'key',\n",
       " 'loudness',\n",
       " 'mode',\n",
       " 'speechiness',\n",
       " 'acousticness',\n",
       " 'instrumentalness',\n",
       " 'liveness',\n",
       " 'valence',\n",
       " 'tempo',\n",
       " 'time_signature',\n",
       " 'track_genre']"
      ]
     },
     "execution_count": 31,
     "metadata": {},
     "output_type": "execute_result"
    }
   ],
   "source": [
    "list(tracks_df.columns)[:-1]"
   ]
  },
  {
   "cell_type": "code",
   "execution_count": 32,
   "id": "e414f7c7",
   "metadata": {},
   "outputs": [],
   "source": [
    "df_data = {}\n",
    "n_tracks = len(list(data['track_id'].keys()))\n",
    "\n",
    "for col in list(tracks_df.columns)[:-1]:\n",
    "    df_data[col] = ['' for x in data['track_id'].keys()]\n",
    "\n",
    "for word in word_columns:\n",
    "    df_data[word] = [0 for x in data['track_id'].keys()]"
   ]
  },
  {
   "cell_type": "code",
   "execution_count": 33,
   "id": "5f730494",
   "metadata": {},
   "outputs": [
    {
     "name": "stdout",
     "output_type": "stream",
     "text": [
      "0.02%, 0:00:00.003524\n",
      "1.01%, 0:00:00.353929\n",
      "2.01%, 0:00:00.519896\n",
      "3.01%, 0:00:00.639600\n",
      "4.01%, 0:00:01.109768\n",
      "5.00%, 0:00:01.559551\n",
      "6.02%, 0:00:01.906520\n",
      "7.01%, 0:00:02.176893\n",
      "8.01%, 0:00:02.304549\n",
      "9.01%, 0:00:02.416788\n",
      "10.00%, 0:00:02.489791\n",
      "11.00%, 0:00:02.561520\n",
      "12.02%, 0:00:02.652851\n",
      "13.01%, 0:00:02.709544\n",
      "14.01%, 0:00:02.882649\n",
      "15.01%, 0:00:03.207187\n",
      "16.00%, 0:00:03.379941\n",
      "17.00%, 0:00:03.483063\n",
      "18.02%, 0:00:03.549665\n",
      "19.01%, 0:00:03.729584\n",
      "20.01%, 0:00:03.879712\n",
      "21.01%, 0:00:03.983535\n",
      "22.00%, 0:00:04.059900\n",
      "23.00%, 0:00:04.119562\n",
      "24.02%, 0:00:04.179856\n",
      "25.01%, 0:00:04.320001\n",
      "26.01%, 0:00:04.384045\n",
      "27.01%, 0:00:04.449679\n",
      "28.00%, 0:00:04.529595\n",
      "29.00%, 0:00:04.790099\n",
      "30.01%, 0:00:05.339813\n",
      "31.01%, 0:00:05.819675\n",
      "32.01%, 0:00:05.904720\n",
      "33.01%, 0:00:05.961163\n",
      "34.00%, 0:00:06.049902\n",
      "35.00%, 0:00:06.139828\n",
      "36.01%, 0:00:06.325058\n",
      "37.01%, 0:00:06.510820\n",
      "38.01%, 0:00:06.669555\n",
      "39.01%, 0:00:06.739683\n",
      "40.00%, 0:00:06.820019\n",
      "41.00%, 0:00:06.912815\n",
      "42.01%, 0:00:07.286352\n",
      "43.01%, 0:00:07.774748\n",
      "44.01%, 0:00:07.942694\n",
      "45.01%, 0:00:08.249596\n",
      "46.00%, 0:00:08.414910\n",
      "47.00%, 0:00:08.759573\n",
      "48.01%, 0:00:08.999649\n",
      "49.01%, 0:00:09.139871\n",
      "50.01%, 0:00:09.249983\n",
      "51.01%, 0:00:09.349590\n",
      "52.00%, 0:00:09.409747\n",
      "53.02%, 0:00:09.489798\n",
      "54.01%, 0:00:09.729942\n",
      "55.01%, 0:00:09.955015\n",
      "56.01%, 0:00:10.134729\n",
      "57.01%, 0:00:10.234764\n",
      "58.00%, 0:00:10.348017\n",
      "59.02%, 0:00:10.419872\n",
      "60.01%, 0:00:10.476797\n",
      "61.01%, 0:00:10.829712\n",
      "62.01%, 0:00:11.054716\n",
      "63.00%, 0:00:11.209672\n",
      "64.00%, 0:00:11.504978\n",
      "65.02%, 0:00:11.609552\n",
      "66.01%, 0:00:11.689745\n",
      "67.01%, 0:00:11.909805\n",
      "68.01%, 0:00:12.004900\n",
      "69.00%, 0:00:12.083768\n",
      "70.00%, 0:00:12.416833\n",
      "71.02%, 0:00:12.483875\n",
      "72.01%, 0:00:12.699807\n",
      "73.01%, 0:00:12.829971\n",
      "74.01%, 0:00:12.905034\n",
      "75.00%, 0:00:13.089889\n",
      "76.00%, 0:00:13.163416\n",
      "77.02%, 0:00:13.229895\n",
      "78.01%, 0:00:13.290350\n",
      "79.01%, 0:00:13.444716\n",
      "80.01%, 0:00:13.609825\n",
      "81.00%, 0:00:13.715065\n",
      "82.00%, 0:00:13.791750\n",
      "83.01%, 0:00:13.861553\n",
      "84.01%, 0:00:13.919668\n",
      "85.01%, 0:00:13.979547\n",
      "86.01%, 0:00:14.035052\n",
      "87.00%, 0:00:14.121808\n",
      "88.00%, 0:00:14.339859\n",
      "89.01%, 0:00:14.539674\n",
      "90.01%, 0:00:14.604996\n",
      "91.01%, 0:00:14.689566\n",
      "92.01%, 0:00:14.953685\n",
      "93.00%, 0:00:15.024697\n",
      "94.00%, 0:00:15.209830\n",
      "95.01%, 0:00:15.489848\n",
      "96.01%, 0:00:15.634739\n",
      "97.01%, 0:00:15.752521\n",
      "98.01%, 0:00:15.969901\n",
      "99.00%, 0:00:16.229786\n",
      "100.00%, 0:00:16.449705\n"
     ]
    }
   ],
   "source": [
    "start_time = datetime.datetime.now()\n",
    "total_rows = n_tracks\n",
    "t = 0\n",
    "p = 0\n",
    "for i, track_id in enumerate(list(data['track_id'].keys())):\n",
    "    row = tracks_df[tracks_df['track_id']==track_id].iloc[0]\n",
    "\n",
    "    for col in list(tracks_df.columns)[:-1]:\n",
    "        df_data[col][i] = row[col]\n",
    "        \n",
    "    for word in data['track_id'][track_id].keys():\n",
    "        if word in word_columns:\n",
    "            df_data[word][i] = data['track_id'][track_id][word]\n",
    "    t += 1\n",
    "    perc_complete = t*100/total_rows\n",
    "    if perc_complete >= p:\n",
    "        print(f'{perc_complete:.2f}%, {datetime.datetime.now()-start_time}')\n",
    "        p += 1"
   ]
  },
  {
   "cell_type": "code",
   "execution_count": 34,
   "id": "546899ab",
   "metadata": {},
   "outputs": [
    {
     "data": {
      "text/html": [
       "<div>\n",
       "<style scoped>\n",
       "    .dataframe tbody tr th:only-of-type {\n",
       "        vertical-align: middle;\n",
       "    }\n",
       "\n",
       "    .dataframe tbody tr th {\n",
       "        vertical-align: top;\n",
       "    }\n",
       "\n",
       "    .dataframe thead th {\n",
       "        text-align: right;\n",
       "    }\n",
       "</style>\n",
       "<table border=\"1\" class=\"dataframe\">\n",
       "  <thead>\n",
       "    <tr style=\"text-align: right;\">\n",
       "      <th></th>\n",
       "      <th>track_id</th>\n",
       "      <th>artists</th>\n",
       "      <th>album_name</th>\n",
       "      <th>track_name</th>\n",
       "      <th>popularity</th>\n",
       "      <th>duration_ms</th>\n",
       "      <th>explicit</th>\n",
       "      <th>danceability</th>\n",
       "      <th>energy</th>\n",
       "      <th>key</th>\n",
       "      <th>...</th>\n",
       "      <th>issa</th>\n",
       "      <th>justin</th>\n",
       "      <th>ish</th>\n",
       "      <th>rockalt</th>\n",
       "      <th>tropical</th>\n",
       "      <th>depressing</th>\n",
       "      <th>lounge</th>\n",
       "      <th>david</th>\n",
       "      <th>wow</th>\n",
       "      <th>jukebox</th>\n",
       "    </tr>\n",
       "  </thead>\n",
       "  <tbody>\n",
       "    <tr>\n",
       "      <th>0</th>\n",
       "      <td>7k9GuJYLp2AzqokyEdwEw2</td>\n",
       "      <td>Ross Copperman</td>\n",
       "      <td>Hunger</td>\n",
       "      <td>Hunger</td>\n",
       "      <td>56</td>\n",
       "      <td>205594</td>\n",
       "      <td>False</td>\n",
       "      <td>0.442</td>\n",
       "      <td>0.632</td>\n",
       "      <td>1</td>\n",
       "      <td>...</td>\n",
       "      <td>0</td>\n",
       "      <td>0</td>\n",
       "      <td>0</td>\n",
       "      <td>0</td>\n",
       "      <td>0</td>\n",
       "      <td>0</td>\n",
       "      <td>0</td>\n",
       "      <td>0</td>\n",
       "      <td>0</td>\n",
       "      <td>0</td>\n",
       "    </tr>\n",
       "    <tr>\n",
       "      <th>1</th>\n",
       "      <td>1KHdq8NK9QxnGjdXb55NiG</td>\n",
       "      <td>Landon Pigg</td>\n",
       "      <td>The Boy Who Never</td>\n",
       "      <td>Falling in Love at a Coffee Shop</td>\n",
       "      <td>58</td>\n",
       "      <td>244986</td>\n",
       "      <td>False</td>\n",
       "      <td>0.489</td>\n",
       "      <td>0.561</td>\n",
       "      <td>1</td>\n",
       "      <td>...</td>\n",
       "      <td>0</td>\n",
       "      <td>0</td>\n",
       "      <td>0</td>\n",
       "      <td>0</td>\n",
       "      <td>0</td>\n",
       "      <td>0</td>\n",
       "      <td>1</td>\n",
       "      <td>0</td>\n",
       "      <td>0</td>\n",
       "      <td>0</td>\n",
       "    </tr>\n",
       "    <tr>\n",
       "      <th>2</th>\n",
       "      <td>2qLMf6TuEC3ruGJg4SMMN6</td>\n",
       "      <td>Jason Mraz;Colbie Caillat</td>\n",
       "      <td>We Sing. We Dance. We Steal Things.</td>\n",
       "      <td>Lucky</td>\n",
       "      <td>68</td>\n",
       "      <td>189613</td>\n",
       "      <td>False</td>\n",
       "      <td>0.625</td>\n",
       "      <td>0.414</td>\n",
       "      <td>4</td>\n",
       "      <td>...</td>\n",
       "      <td>1</td>\n",
       "      <td>0</td>\n",
       "      <td>0</td>\n",
       "      <td>1</td>\n",
       "      <td>0</td>\n",
       "      <td>0</td>\n",
       "      <td>2</td>\n",
       "      <td>1</td>\n",
       "      <td>3</td>\n",
       "      <td>1</td>\n",
       "    </tr>\n",
       "    <tr>\n",
       "      <th>3</th>\n",
       "      <td>3S0OXQeoh0w6AY8WQVckRW</td>\n",
       "      <td>Jason Mraz</td>\n",
       "      <td>We Sing. We Dance. We Steal Things.</td>\n",
       "      <td>I'm Yours</td>\n",
       "      <td>75</td>\n",
       "      <td>242946</td>\n",
       "      <td>False</td>\n",
       "      <td>0.703</td>\n",
       "      <td>1.000</td>\n",
       "      <td>14</td>\n",
       "      <td>...</td>\n",
       "      <td>1</td>\n",
       "      <td>2</td>\n",
       "      <td>0</td>\n",
       "      <td>0</td>\n",
       "      <td>3</td>\n",
       "      <td>3</td>\n",
       "      <td>2</td>\n",
       "      <td>0</td>\n",
       "      <td>3</td>\n",
       "      <td>1</td>\n",
       "    </tr>\n",
       "    <tr>\n",
       "      <th>4</th>\n",
       "      <td>5TvE3pk05pyFIGdSY9j4DJ</td>\n",
       "      <td>A Great Big World;Christina Aguilera</td>\n",
       "      <td>Is There Anybody Out There? - Track by Track C...</td>\n",
       "      <td>Say Something</td>\n",
       "      <td>70</td>\n",
       "      <td>229400</td>\n",
       "      <td>False</td>\n",
       "      <td>0.407</td>\n",
       "      <td>1.000</td>\n",
       "      <td>6</td>\n",
       "      <td>...</td>\n",
       "      <td>1</td>\n",
       "      <td>1</td>\n",
       "      <td>2</td>\n",
       "      <td>1</td>\n",
       "      <td>0</td>\n",
       "      <td>32</td>\n",
       "      <td>1</td>\n",
       "      <td>0</td>\n",
       "      <td>0</td>\n",
       "      <td>0</td>\n",
       "    </tr>\n",
       "  </tbody>\n",
       "</table>\n",
       "<p>5 rows × 676 columns</p>\n",
       "</div>"
      ],
      "text/plain": [
       "                 track_id                               artists  \\\n",
       "0  7k9GuJYLp2AzqokyEdwEw2                        Ross Copperman   \n",
       "1  1KHdq8NK9QxnGjdXb55NiG                           Landon Pigg   \n",
       "2  2qLMf6TuEC3ruGJg4SMMN6             Jason Mraz;Colbie Caillat   \n",
       "3  3S0OXQeoh0w6AY8WQVckRW                            Jason Mraz   \n",
       "4  5TvE3pk05pyFIGdSY9j4DJ  A Great Big World;Christina Aguilera   \n",
       "\n",
       "                                          album_name  \\\n",
       "0                                             Hunger   \n",
       "1                                  The Boy Who Never   \n",
       "2                We Sing. We Dance. We Steal Things.   \n",
       "3                We Sing. We Dance. We Steal Things.   \n",
       "4  Is There Anybody Out There? - Track by Track C...   \n",
       "\n",
       "                         track_name  popularity  duration_ms  explicit  \\\n",
       "0                            Hunger          56       205594     False   \n",
       "1  Falling in Love at a Coffee Shop          58       244986     False   \n",
       "2                             Lucky          68       189613     False   \n",
       "3                         I'm Yours          75       242946     False   \n",
       "4                     Say Something          70       229400     False   \n",
       "\n",
       "   danceability  energy  key  ...  issa  justin  ish  rockalt  tropical  \\\n",
       "0         0.442   0.632    1  ...     0       0    0        0         0   \n",
       "1         0.489   0.561    1  ...     0       0    0        0         0   \n",
       "2         0.625   0.414    4  ...     1       0    0        1         0   \n",
       "3         0.703   1.000   14  ...     1       2    0        0         3   \n",
       "4         0.407   1.000    6  ...     1       1    2        1         0   \n",
       "\n",
       "   depressing  lounge  david  wow jukebox  \n",
       "0           0       0      0    0       0  \n",
       "1           0       1      0    0       0  \n",
       "2           0       2      1    3       1  \n",
       "3           3       2      0    3       1  \n",
       "4          32       1      0    0       0  \n",
       "\n",
       "[5 rows x 676 columns]"
      ]
     },
     "execution_count": 34,
     "metadata": {},
     "output_type": "execute_result"
    }
   ],
   "source": [
    "word_bin_df = pd.DataFrame(data=df_data)\n",
    "word_bin_df.head()"
   ]
  },
  {
   "cell_type": "code",
   "execution_count": 35,
   "id": "fdf50565",
   "metadata": {},
   "outputs": [
    {
     "data": {
      "text/html": [
       "<div>\n",
       "<style scoped>\n",
       "    .dataframe tbody tr th:only-of-type {\n",
       "        vertical-align: middle;\n",
       "    }\n",
       "\n",
       "    .dataframe tbody tr th {\n",
       "        vertical-align: top;\n",
       "    }\n",
       "\n",
       "    .dataframe thead th {\n",
       "        text-align: right;\n",
       "    }\n",
       "</style>\n",
       "<table border=\"1\" class=\"dataframe\">\n",
       "  <thead>\n",
       "    <tr style=\"text-align: right;\">\n",
       "      <th></th>\n",
       "      <th>track_name</th>\n",
       "      <th>artists</th>\n",
       "      <th>album_name</th>\n",
       "      <th>road</th>\n",
       "    </tr>\n",
       "  </thead>\n",
       "  <tbody>\n",
       "    <tr>\n",
       "      <th>3636</th>\n",
       "      <td>Don't Stop Believin'</td>\n",
       "      <td>Journey</td>\n",
       "      <td>Escape (Bonus Track Version)</td>\n",
       "      <td>585</td>\n",
       "    </tr>\n",
       "    <tr>\n",
       "      <th>1780</th>\n",
       "      <td>Closer</td>\n",
       "      <td>The Chainsmokers;Halsey</td>\n",
       "      <td>Closer</td>\n",
       "      <td>447</td>\n",
       "    </tr>\n",
       "    <tr>\n",
       "      <th>2760</th>\n",
       "      <td>Riptide</td>\n",
       "      <td>Vance Joy</td>\n",
       "      <td>Dream Your Life Away</td>\n",
       "      <td>420</td>\n",
       "    </tr>\n",
       "    <tr>\n",
       "      <th>236</th>\n",
       "      <td>All Star</td>\n",
       "      <td>Smash Mouth</td>\n",
       "      <td>Astro Lounge</td>\n",
       "      <td>400</td>\n",
       "    </tr>\n",
       "    <tr>\n",
       "      <th>212</th>\n",
       "      <td>Shut Up and Dance</td>\n",
       "      <td>WALK THE MOON</td>\n",
       "      <td>TALKING IS HARD</td>\n",
       "      <td>397</td>\n",
       "    </tr>\n",
       "  </tbody>\n",
       "</table>\n",
       "</div>"
      ],
      "text/plain": [
       "                track_name                  artists  \\\n",
       "3636  Don't Stop Believin'                  Journey   \n",
       "1780                Closer  The Chainsmokers;Halsey   \n",
       "2760               Riptide                Vance Joy   \n",
       "236               All Star              Smash Mouth   \n",
       "212      Shut Up and Dance            WALK THE MOON   \n",
       "\n",
       "                        album_name  road  \n",
       "3636  Escape (Bonus Track Version)   585  \n",
       "1780                        Closer   447  \n",
       "2760          Dream Your Life Away   420  \n",
       "236                   Astro Lounge   400  \n",
       "212                TALKING IS HARD   397  "
      ]
     },
     "execution_count": 35,
     "metadata": {},
     "output_type": "execute_result"
    }
   ],
   "source": [
    "keyword = 'road'\n",
    "filter = word_bin_df[keyword] > 0\n",
    "filter_df = word_bin_df[filter][['track_name', 'artists', 'album_name',keyword]]\n",
    "filter_df.sort_values(by=keyword,ascending=False).head()"
   ]
  },
  {
   "cell_type": "code",
   "execution_count": 36,
   "id": "52082f23",
   "metadata": {},
   "outputs": [],
   "source": [
    "word_bin_df.to_pickle('word_count_df.pkl')"
   ]
  },
  {
   "cell_type": "code",
   "execution_count": null,
   "id": "cc6ab487",
   "metadata": {},
   "outputs": [],
   "source": []
  }
 ],
 "metadata": {
  "kernelspec": {
   "display_name": "learn-ds",
   "language": "python",
   "name": "python3"
  },
  "language_info": {
   "codemirror_mode": {
    "name": "ipython",
    "version": 3
   },
   "file_extension": ".py",
   "mimetype": "text/x-python",
   "name": "python",
   "nbconvert_exporter": "python",
   "pygments_lexer": "ipython3",
   "version": "3.9.7"
  }
 },
 "nbformat": 4,
 "nbformat_minor": 5
}
