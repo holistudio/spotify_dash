{
 "cells": [
  {
   "cell_type": "markdown",
   "id": "33dd2089",
   "metadata": {},
   "source": [
    "# Word Bin Counts Analysis"
   ]
  },
  {
   "cell_type": "code",
   "execution_count": 1,
   "id": "4f31943a",
   "metadata": {},
   "outputs": [],
   "source": [
    "import os\n",
    "import json\n",
    "import datetime\n",
    "\n",
    "import pandas as pd\n",
    "import numpy as np\n",
    "import matplotlib.pyplot as plt\n",
    "import seaborn as sns"
   ]
  },
  {
   "cell_type": "markdown",
   "id": "5100d8a2",
   "metadata": {},
   "source": [
    "## Load Data"
   ]
  },
  {
   "cell_type": "code",
   "execution_count": 2,
   "id": "acd11d8c",
   "metadata": {},
   "outputs": [],
   "source": [
    "dataset_dir = os.path.join('..','..','datasets','tracks_playlist_dataset')\n",
    "\n",
    "json_file_path = os.path.join(dataset_dir,'word_count_data.json')\n",
    "\n",
    "with open(json_file_path, 'r') as f:\n",
    "    data = json.load(f)"
   ]
  },
  {
   "cell_type": "code",
   "execution_count": 3,
   "id": "096269dd",
   "metadata": {},
   "outputs": [
    {
     "data": {
      "text/plain": [
       "['favorite',\n",
       " 'calming',\n",
       " 'study',\n",
       " 'diaries',\n",
       " 'soothing',\n",
       " 'mack',\n",
       " 'sleep',\n",
       " 'camille',\n",
       " 'mellow',\n",
       " 'sleeep']"
      ]
     },
     "execution_count": 3,
     "metadata": {},
     "output_type": "execute_result"
    }
   ],
   "source": [
    "list(data['global'].keys())[:10]"
   ]
  },
  {
   "cell_type": "markdown",
   "id": "24ac2d1c",
   "metadata": {},
   "source": [
    "## Global Word Count Analysis"
   ]
  },
  {
   "cell_type": "code",
   "execution_count": 4,
   "id": "700c8f6a",
   "metadata": {},
   "outputs": [],
   "source": [
    "# get sorted list of words across all tracks ranked by bin count\n",
    "global_word_bins = data['global']\n",
    "global_sorted_words = sorted(global_word_bins.items(), key=lambda x: x[1], reverse=True)"
   ]
  },
  {
   "cell_type": "code",
   "execution_count": 5,
   "id": "0e949624",
   "metadata": {},
   "outputs": [
    {
     "data": {
      "text/plain": [
       "[('rock', 409894),\n",
       " ('oldies', 147719),\n",
       " ('classic', 147634),\n",
       " ('party', 128832),\n",
       " ('summer', 126412),\n",
       " ('good', 119145),\n",
       " ('chill', 113242),\n",
       " ('old', 107009),\n",
       " ('classics', 79934),\n",
       " ('workout', 79276)]"
      ]
     },
     "execution_count": 5,
     "metadata": {},
     "output_type": "execute_result"
    }
   ],
   "source": [
    "global_sorted_words[:10]"
   ]
  },
  {
   "cell_type": "code",
   "execution_count": 6,
   "id": "bbbd658b",
   "metadata": {},
   "outputs": [
    {
     "data": {
      "text/plain": [
       "[('bandona', 1),\n",
       " ('kiko', 1),\n",
       " ('cumbiaa', 1),\n",
       " ('norteña', 1),\n",
       " ('conjunto', 1),\n",
       " ('grupo', 1),\n",
       " ('ajua', 1),\n",
       " ('rebelution', 1),\n",
       " ('mirrey', 1),\n",
       " ('salseando', 1)]"
      ]
     },
     "execution_count": 6,
     "metadata": {},
     "output_type": "execute_result"
    }
   ],
   "source": [
    "global_sorted_words[-10:]"
   ]
  },
  {
   "cell_type": "code",
   "execution_count": 7,
   "id": "5ae581ef",
   "metadata": {},
   "outputs": [
    {
     "data": {
      "text/plain": [
       "array([409894, 147719, 147634, 128832, 126412, 119145, 113242, 107009,\n",
       "        79934,  79276])"
      ]
     },
     "execution_count": 7,
     "metadata": {},
     "output_type": "execute_result"
    }
   ],
   "source": [
    "bin_counts = np.array([x[1] for x in global_sorted_words])\n",
    "bin_counts[:10]"
   ]
  },
  {
   "cell_type": "code",
   "execution_count": 8,
   "id": "92996894",
   "metadata": {},
   "outputs": [
    {
     "data": {
      "text/plain": [
       "9723"
      ]
     },
     "execution_count": 8,
     "metadata": {},
     "output_type": "execute_result"
    }
   ],
   "source": [
    "# How many words total\n",
    "len(global_sorted_words)"
   ]
  },
  {
   "cell_type": "code",
   "execution_count": 9,
   "id": "4363a60e",
   "metadata": {},
   "outputs": [
    {
     "data": {
      "text/plain": [
       "409894"
      ]
     },
     "execution_count": 9,
     "metadata": {},
     "output_type": "execute_result"
    }
   ],
   "source": [
    "int(np.max(bin_counts))"
   ]
  },
  {
   "cell_type": "code",
   "execution_count": 10,
   "id": "22a01a83",
   "metadata": {},
   "outputs": [
    {
     "data": {
      "text/plain": [
       "147719"
      ]
     },
     "execution_count": 10,
     "metadata": {},
     "output_type": "execute_result"
    }
   ],
   "source": [
    "int(np.max(bin_counts[1:]))"
   ]
  },
  {
   "cell_type": "code",
   "execution_count": 11,
   "id": "55136d56",
   "metadata": {},
   "outputs": [
    {
     "data": {
      "text/plain": [
       "296"
      ]
     },
     "execution_count": 11,
     "metadata": {},
     "output_type": "execute_result"
    }
   ],
   "source": [
    "# How many words with only 1 bin count\n",
    "int(sum(bin_counts == 1))"
   ]
  },
  {
   "cell_type": "code",
   "execution_count": 12,
   "id": "a1c1639a",
   "metadata": {},
   "outputs": [
    {
     "name": "stdout",
     "output_type": "stream",
     "text": [
      "[100.0, 1000.0, 10000.0, 100000.0, 1000000.0]\n",
      "[5344. 9032. 9640. 9715. 9723.]\n"
     ]
    }
   ],
   "source": [
    "thresholds = [1e2, 1e3, 1e4, 1e5, 1e6]\n",
    "order_counts = np.zeros(len(thresholds))\n",
    "\n",
    "for i,t in enumerate(thresholds):\n",
    "    order_counts[i] = int(sum(bin_counts < t))\n",
    "\n",
    "print(thresholds)\n",
    "print(order_counts)"
   ]
  },
  {
   "cell_type": "code",
   "execution_count": 13,
   "id": "ed268360",
   "metadata": {},
   "outputs": [
    {
     "name": "stdout",
     "output_type": "stream",
     "text": [
      "4379\n"
     ]
    }
   ],
   "source": [
    "for i in range(len(bin_counts)):\n",
    "    if bin_counts[i]<100:\n",
    "        print(i)\n",
    "        break"
   ]
  },
  {
   "cell_type": "code",
   "execution_count": 14,
   "id": "3dd07099",
   "metadata": {},
   "outputs": [
    {
     "name": "stdout",
     "output_type": "stream",
     "text": [
      "691\n"
     ]
    }
   ],
   "source": [
    "for i in range(len(bin_counts)):\n",
    "    if bin_counts[i]<1000:\n",
    "        print(i)\n",
    "        break"
   ]
  },
  {
   "cell_type": "code",
   "execution_count": 15,
   "id": "071f45ef",
   "metadata": {},
   "outputs": [
    {
     "name": "stdout",
     "output_type": "stream",
     "text": [
      "83\n"
     ]
    }
   ],
   "source": [
    "for i in range(len(bin_counts)):\n",
    "    if bin_counts[i]<10000:\n",
    "        print(i)\n",
    "        break"
   ]
  },
  {
   "cell_type": "code",
   "execution_count": 16,
   "id": "7d75043e",
   "metadata": {},
   "outputs": [],
   "source": [
    "# bin_counts_rev = bin_counts[::-1]\n",
    "# incs = np.zeros(len(bin_counts_rev)-1)\n",
    "# for i in range(len(bin_counts_rev)-1):\n",
    "#     val = bin_counts_rev[i]\n",
    "#     next_val = bin_counts_rev[i+1]\n",
    "#     incs[i] = next_val - val\n",
    "#     if len(str(next_val)) == len(str(val)) + 1:\n",
    "#         print(i)"
   ]
  },
  {
   "cell_type": "code",
   "execution_count": 17,
   "id": "5d9ea1e2",
   "metadata": {},
   "outputs": [],
   "source": [
    "# ix = 1479\n",
    "# print(bin_counts_rev[ix-10:ix+1])\n",
    "# print(incs[ix-10:ix+1])"
   ]
  },
  {
   "cell_type": "code",
   "execution_count": 18,
   "id": "28b2389b",
   "metadata": {},
   "outputs": [],
   "source": [
    "# ix = 5344\n",
    "# print(bin_counts_rev[ix-10:ix+1])\n",
    "# print(incs[ix-10:ix+1])"
   ]
  },
  {
   "cell_type": "code",
   "execution_count": 19,
   "id": "535eda11",
   "metadata": {},
   "outputs": [],
   "source": [
    "# thres = 19\n",
    "# for i in range(10,len(incs)):\n",
    "#     prev_avg = np.mean(incs[i-10:i])\n",
    "\n",
    "#     if prev_avg > 0:\n",
    "#         v = incs[i]\n",
    "#         diff = v - prev_avg\n",
    "#         if diff/prev_avg > thres:\n",
    "#             print(i)\n",
    "#             print(v)\n",
    "#             print(incs[i-10:i])\n",
    "#             # print(prev_avg)\n",
    "#             # print(diff)\n",
    "#             print(diff/prev_avg)\n",
    "#             print(bin_counts_rev[i])\n",
    "#             print(bin_counts_rev[i-10:i])\n",
    "#             break"
   ]
  },
  {
   "cell_type": "code",
   "execution_count": 20,
   "id": "750c17b1",
   "metadata": {},
   "outputs": [],
   "source": [
    "# non_zero_incs = []\n",
    "# for v in incs:\n",
    "#     if v > 10:\n",
    "#         non_zero_incs.append(v)\n",
    "# non_zero_incs[:10]"
   ]
  },
  {
   "cell_type": "code",
   "execution_count": 21,
   "id": "b3f31019",
   "metadata": {},
   "outputs": [
    {
     "data": {
      "image/png": "[encoded data removed]",
      "text/plain": [
       "<Figure size 640x480 with 1 Axes>"
      ]
     },
     "metadata": {},
     "output_type": "display_data"
    }
   ],
   "source": [
    "# sns.barplot(data=bin_counts)\n",
    "# plt.xlabel(\"word_i\",fontsize=20)\n",
    "# plt.ylabel(\"Frequency\",fontsize=20)\n",
    "# plt.show()\n",
    "\n",
    "# sns.barplot(data=bin_counts[:4739])\n",
    "# plt.xlabel(\"word_i\",fontsize=20)\n",
    "# plt.ylabel(\"Frequency\",fontsize=20)\n",
    "# plt.show()\n",
    "\n",
    "# sns.barplot(data=bin_counts[1:4739])\n",
    "# plt.xlabel(\"word_i\",fontsize=20)\n",
    "# plt.ylabel(\"Frequency\",fontsize=20)\n",
    "# plt.show()\n",
    "\n",
    "# sns.barplot(data=bin_counts[1:691])\n",
    "# plt.xlabel(\"word_i\",fontsize=20)\n",
    "# plt.ylabel(\"Frequency\",fontsize=20)\n",
    "# plt.show()\n",
    "\n",
    "sns.barplot(data=bin_counts[1:84])\n",
    "plt.xlabel(\"word_i\",fontsize=20)\n",
    "plt.ylabel(\"Frequency\",fontsize=20)\n",
    "plt.show()"
   ]
  },
  {
   "cell_type": "code",
   "execution_count": 22,
   "id": "24d93cb0",
   "metadata": {},
   "outputs": [
    {
     "data": {
      "image/png": "[encoded data removed]",
      "text/plain": [
       "<Figure size 640x480 with 1 Axes>"
      ]
     },
     "metadata": {},
     "output_type": "display_data"
    }
   ],
   "source": [
    "# sns.boxplot(x=bin_counts)\n",
    "# plt.show()\n",
    "\n",
    "# sns.boxplot(x=bin_counts[:4739])\n",
    "# plt.show()\n",
    "\n",
    "# sns.boxplot(x=bin_counts[1:4739])\n",
    "# plt.show()\n",
    "\n",
    "# sns.boxplot(x=bin_counts[1:691])\n",
    "# plt.show()\n",
    "\n",
    "sns.boxplot(x=bin_counts[1:83])\n",
    "plt.show()"
   ]
  },
  {
   "cell_type": "code",
   "execution_count": 24,
   "id": "a4821f2d",
   "metadata": {},
   "outputs": [
    {
     "name": "stdout",
     "output_type": "stream",
     "text": [
      "Lower whisker: 10127\n",
      "Q1: 14874.75\n",
      "Median: 20952.0\n",
      "Q3: 42496.0\n",
      "Upper whisker: 79934\n"
     ]
    }
   ],
   "source": [
    "q1 = np.percentile(bin_counts[1:83], 25)\n",
    "q3 = np.percentile(bin_counts[1:83], 75)\n",
    "iqr = q3 - q1\n",
    "\n",
    "lower_whisker = np.min(bin_counts[1:83][bin_counts[1:83] >= q1 - 1.5 * iqr])\n",
    "upper_whisker = np.max(bin_counts[1:83][bin_counts[1:83] <= q3 + 1.5 * iqr])\n",
    "\n",
    "print(\"Lower whisker:\", lower_whisker)\n",
    "print(\"Q1:\", q1)\n",
    "print(\"Median:\", np.median(bin_counts[1:83]))\n",
    "print(\"Q3:\", q3)\n",
    "print(\"Upper whisker:\", upper_whisker)\n"
   ]
  },
  {
   "cell_type": "markdown",
   "id": "19e39a67",
   "metadata": {},
   "source": [
    "## Bin Count DataFrame"
   ]
  },
  {
   "cell_type": "code",
   "execution_count": null,
   "id": "30cf61c8",
   "metadata": {},
   "outputs": [],
   "source": []
  }
 ],
 "metadata": {
  "kernelspec": {
   "display_name": "learn-ds",
   "language": "python",
   "name": "python3"
  },
  "language_info": {
   "codemirror_mode": {
    "name": "ipython",
    "version": 3
   },
   "file_extension": ".py",
   "mimetype": "text/x-python",
   "name": "python",
   "nbconvert_exporter": "python",
   "pygments_lexer": "ipython3",
   "version": "3.9.7"
  }
 },
 "nbformat": 4,
 "nbformat_minor": 5
}
