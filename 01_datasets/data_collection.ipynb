{
 "cells": [
  {
   "cell_type": "markdown",
   "id": "1ed7b196",
   "metadata": {},
   "source": [
    "# Data Collection\n",
    "\n",
    "Spotify Million Playlist Dataset"
   ]
  },
  {
   "cell_type": "code",
   "execution_count": 1,
   "id": "0",
   "metadata": {},
   "outputs": [],
   "source": [
    "import requests\n",
    "import pandas as pd\n",
    "import os\n",
    "import json"
   ]
  },
  {
   "cell_type": "code",
   "execution_count": 2,
   "id": "967eeb11",
   "metadata": {},
   "outputs": [],
   "source": [
    "dataset_dir = os.path.join('..','..','datasets','spotify_million_playlist_dataset','data')"
   ]
  },
  {
   "cell_type": "markdown",
   "id": "2f4e01e5",
   "metadata": {},
   "source": [
    "## Load a single JSON as a dataframe\n"
   ]
  },
  {
   "cell_type": "code",
   "execution_count": 3,
   "id": "3",
   "metadata": {},
   "outputs": [],
   "source": [
    "slice_start = 0\n",
    "slice_end = 999\n",
    "\n",
    "json_file_name = f'mpd.slice.{slice_start}-{slice_end}.json'\n",
    "\n",
    "json_file_path = os.path.join(dataset_dir,json_file_name)\n",
    "\n",
    "with open(json_file_path, 'r') as f:\n",
    "    json_file = json.load(f)\n",
    "\n",
    "playlists = json_file['playlists']"
   ]
  },
  {
   "cell_type": "code",
   "execution_count": 4,
   "id": "160da489",
   "metadata": {},
   "outputs": [
    {
     "data": {
      "text/plain": [
       "1000"
      ]
     },
     "execution_count": 4,
     "metadata": {},
     "output_type": "execute_result"
    }
   ],
   "source": [
    "len(playlists)"
   ]
  },
  {
   "cell_type": "code",
   "execution_count": null,
   "id": "b3617393",
   "metadata": {},
   "outputs": [],
   "source": []
  }
 ],
 "metadata": {
  "kernelspec": {
   "display_name": "learn-ds",
   "language": "python",
   "name": "python3"
  },
  "language_info": {
   "codemirror_mode": {
    "name": "ipython",
    "version": 3
   },
   "file_extension": ".py",
   "mimetype": "text/x-python",
   "name": "python",
   "nbconvert_exporter": "python",
   "pygments_lexer": "ipython3",
   "version": "3.9.7"
  }
 },
 "nbformat": 4,
 "nbformat_minor": 5
}
