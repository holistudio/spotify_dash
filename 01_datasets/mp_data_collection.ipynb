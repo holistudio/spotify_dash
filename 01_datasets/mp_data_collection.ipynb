{
 "cells": [
  {
   "cell_type": "markdown",
   "id": "1ed7b196",
   "metadata": {},
   "source": [
    "# Data Collection\n",
    "\n",
    "Spotify Million Playlist Dataset"
   ]
  },
  {
   "cell_type": "code",
   "execution_count": 1,
   "id": "0",
   "metadata": {},
   "outputs": [],
   "source": [
    "import requests\n",
    "import pandas as pd\n",
    "import os\n",
    "import json\n",
    "import copy\n",
    "import datetime"
   ]
  },
  {
   "cell_type": "code",
   "execution_count": 2,
   "id": "967eeb11",
   "metadata": {},
   "outputs": [],
   "source": [
    "dataset_dir = os.path.join('..','..','datasets','spotify_million_playlist_dataset','data')"
   ]
  },
  {
   "cell_type": "markdown",
   "id": "2f4e01e5",
   "metadata": {},
   "source": [
    "## Load a single JSON as a dataframe\n"
   ]
  },
  {
   "cell_type": "code",
   "execution_count": 3,
   "id": "3",
   "metadata": {},
   "outputs": [],
   "source": [
    "slice_start = 0\n",
    "slice_end = 999\n",
    "\n",
    "json_file_name = f'mpd.slice.{slice_start}-{slice_end}.json'\n",
    "\n",
    "json_file_path = os.path.join(dataset_dir,json_file_name)\n",
    "\n",
    "with open(json_file_path, 'r') as f:\n",
    "    json_file = json.load(f)\n",
    "\n",
    "playlists = json_file['playlists']"
   ]
  },
  {
   "cell_type": "code",
   "execution_count": 4,
   "id": "160da489",
   "metadata": {},
   "outputs": [
    {
     "data": {
      "text/plain": [
       "1000"
      ]
     },
     "execution_count": 4,
     "metadata": {},
     "output_type": "execute_result"
    }
   ],
   "source": [
    "len(playlists)"
   ]
  },
  {
   "cell_type": "code",
   "execution_count": 5,
   "id": "b3617393",
   "metadata": {},
   "outputs": [
    {
     "data": {
      "text/plain": [
       "'Throwbacks'"
      ]
     },
     "execution_count": 5,
     "metadata": {},
     "output_type": "execute_result"
    }
   ],
   "source": [
    "p_ix = 0\n",
    "\n",
    "playlists[p_ix]['name']"
   ]
  },
  {
   "cell_type": "code",
   "execution_count": 6,
   "id": "f137505e",
   "metadata": {},
   "outputs": [
    {
     "data": {
      "text/plain": [
       "{'pos': 0,\n",
       " 'artist_name': 'Missy Elliott',\n",
       " 'track_uri': 'spotify:track:0UaMYEvWZi0ZqiDOoHU3YI',\n",
       " 'artist_uri': 'spotify:artist:2wIVse2owClT7go1WT98tk',\n",
       " 'track_name': 'Lose Control (feat. Ciara & Fat Man Scoop)',\n",
       " 'album_uri': 'spotify:album:6vV5UrXcfyQD1wu4Qo2I9K',\n",
       " 'duration_ms': 226863,\n",
       " 'album_name': 'The Cookbook'}"
      ]
     },
     "execution_count": 6,
     "metadata": {},
     "output_type": "execute_result"
    }
   ],
   "source": [
    "t_ix = 0\n",
    "playlists[p_ix]['tracks'][t_ix]"
   ]
  },
  {
   "cell_type": "code",
   "execution_count": 7,
   "id": "b1a23d2e",
   "metadata": {},
   "outputs": [
    {
     "data": {
      "text/html": [
       "<div>\n",
       "<style scoped>\n",
       "    .dataframe tbody tr th:only-of-type {\n",
       "        vertical-align: middle;\n",
       "    }\n",
       "\n",
       "    .dataframe tbody tr th {\n",
       "        vertical-align: top;\n",
       "    }\n",
       "\n",
       "    .dataframe thead th {\n",
       "        text-align: right;\n",
       "    }\n",
       "</style>\n",
       "<table border=\"1\" class=\"dataframe\">\n",
       "  <thead>\n",
       "    <tr style=\"text-align: right;\">\n",
       "      <th></th>\n",
       "      <th>track_name</th>\n",
       "      <th>artist_name</th>\n",
       "      <th>album_name</th>\n",
       "      <th>playlist_name</th>\n",
       "      <th>track_uri</th>\n",
       "      <th>artist_uri</th>\n",
       "    </tr>\n",
       "  </thead>\n",
       "  <tbody>\n",
       "    <tr>\n",
       "      <th>0</th>\n",
       "      <td>Lose Control (feat. Ciara &amp; Fat Man Scoop)</td>\n",
       "      <td>Missy Elliott</td>\n",
       "      <td>The Cookbook</td>\n",
       "      <td>Throwbacks</td>\n",
       "      <td>spotify:track:0UaMYEvWZi0ZqiDOoHU3YI</td>\n",
       "      <td>spotify:artist:2wIVse2owClT7go1WT98tk</td>\n",
       "    </tr>\n",
       "    <tr>\n",
       "      <th>1</th>\n",
       "      <td>Toxic</td>\n",
       "      <td>Britney Spears</td>\n",
       "      <td>In The Zone</td>\n",
       "      <td>Throwbacks</td>\n",
       "      <td>spotify:track:6I9VzXrHxO9rA9A5euc8Ak</td>\n",
       "      <td>spotify:artist:26dSoYclwsYLMAKD3tpOr4</td>\n",
       "    </tr>\n",
       "    <tr>\n",
       "      <th>2</th>\n",
       "      <td>Crazy In Love</td>\n",
       "      <td>Beyoncé</td>\n",
       "      <td>Dangerously In Love (Alben für die Ewigkeit)</td>\n",
       "      <td>Throwbacks</td>\n",
       "      <td>spotify:track:0WqIKmW4BTrj3eJFmnCKMv</td>\n",
       "      <td>spotify:artist:6vWDO969PvNqNYHIOW5v0m</td>\n",
       "    </tr>\n",
       "    <tr>\n",
       "      <th>3</th>\n",
       "      <td>Rock Your Body</td>\n",
       "      <td>Justin Timberlake</td>\n",
       "      <td>Justified</td>\n",
       "      <td>Throwbacks</td>\n",
       "      <td>spotify:track:1AWQoqb9bSvzTjaLralEkT</td>\n",
       "      <td>spotify:artist:31TPClRtHm23RisEBtV3X7</td>\n",
       "    </tr>\n",
       "    <tr>\n",
       "      <th>4</th>\n",
       "      <td>It Wasn't Me</td>\n",
       "      <td>Shaggy</td>\n",
       "      <td>Hot Shot</td>\n",
       "      <td>Throwbacks</td>\n",
       "      <td>spotify:track:1lzr43nnXAijIGYnCT8M8H</td>\n",
       "      <td>spotify:artist:5EvFsr3kj42KNv97ZEnqij</td>\n",
       "    </tr>\n",
       "  </tbody>\n",
       "</table>\n",
       "</div>"
      ],
      "text/plain": [
       "                                   track_name        artist_name  \\\n",
       "0  Lose Control (feat. Ciara & Fat Man Scoop)      Missy Elliott   \n",
       "1                                       Toxic     Britney Spears   \n",
       "2                               Crazy In Love            Beyoncé   \n",
       "3                              Rock Your Body  Justin Timberlake   \n",
       "4                                It Wasn't Me             Shaggy   \n",
       "\n",
       "                                     album_name playlist_name  \\\n",
       "0                                  The Cookbook    Throwbacks   \n",
       "1                                   In The Zone    Throwbacks   \n",
       "2  Dangerously In Love (Alben für die Ewigkeit)    Throwbacks   \n",
       "3                                     Justified    Throwbacks   \n",
       "4                                      Hot Shot    Throwbacks   \n",
       "\n",
       "                              track_uri                             artist_uri  \n",
       "0  spotify:track:0UaMYEvWZi0ZqiDOoHU3YI  spotify:artist:2wIVse2owClT7go1WT98tk  \n",
       "1  spotify:track:6I9VzXrHxO9rA9A5euc8Ak  spotify:artist:26dSoYclwsYLMAKD3tpOr4  \n",
       "2  spotify:track:0WqIKmW4BTrj3eJFmnCKMv  spotify:artist:6vWDO969PvNqNYHIOW5v0m  \n",
       "3  spotify:track:1AWQoqb9bSvzTjaLralEkT  spotify:artist:31TPClRtHm23RisEBtV3X7  \n",
       "4  spotify:track:1lzr43nnXAijIGYnCT8M8H  spotify:artist:5EvFsr3kj42KNv97ZEnqij  "
      ]
     },
     "execution_count": 7,
     "metadata": {},
     "output_type": "execute_result"
    }
   ],
   "source": [
    "data = []\n",
    "row = {\n",
    "    \"track_name\":\"\",\n",
    "    \"artist_name\":\"\",\n",
    "    \"album_name\":\"\",\n",
    "    \"playlist_name\":\"\",\n",
    "    \"track_uri\":\"\",\n",
    "    \"artist_uri\":\"\",\n",
    "}\n",
    "\n",
    "for p_ix,playlist in enumerate(playlists):\n",
    "    row['playlist_name'] = playlist['name']\n",
    "    for track in playlist['tracks']:\n",
    "        row['track_name'] = track['track_name']\n",
    "        row['artist_name'] = track['artist_name']\n",
    "        row['album_name'] = track['album_name']\n",
    "        row['track_uri'] = track['track_uri']\n",
    "        row['artist_uri'] = track['artist_uri']\n",
    "        data.append(copy.deepcopy(row))\n",
    "\n",
    "mp_df = pd.DataFrame(data = data)\n",
    "mp_df.head()"
   ]
  },
  {
   "cell_type": "code",
   "execution_count": 8,
   "id": "15016fef",
   "metadata": {},
   "outputs": [
    {
     "data": {
      "text/plain": [
       "34443"
      ]
     },
     "execution_count": 8,
     "metadata": {},
     "output_type": "execute_result"
    }
   ],
   "source": [
    "len(mp_df['track_uri'].unique())"
   ]
  },
  {
   "cell_type": "code",
   "execution_count": 9,
   "id": "76d390e5",
   "metadata": {},
   "outputs": [
    {
     "data": {
      "text/plain": [
       "30049"
      ]
     },
     "execution_count": 9,
     "metadata": {},
     "output_type": "execute_result"
    }
   ],
   "source": [
    "len(mp_df['track_name'].unique())"
   ]
  },
  {
   "cell_type": "code",
   "execution_count": 10,
   "id": "2cf51dec",
   "metadata": {},
   "outputs": [
    {
     "data": {
      "text/plain": [
       "array(['Throwbacks', 'Awesome Playlist', 'korean ', 'mat', '90s',\n",
       "       'Wedding', 'I Put A Spell On You', '2017', 'BOP', 'old country '],\n",
       "      dtype=object)"
      ]
     },
     "execution_count": 10,
     "metadata": {},
     "output_type": "execute_result"
    }
   ],
   "source": [
    "mp_df['playlist_name'].unique()[:10]"
   ]
  },
  {
   "cell_type": "markdown",
   "id": "19d25f82",
   "metadata": {},
   "source": [
    "## Diagnose Track Name vs Track URI\n",
    "\n",
    "Why are there more unique track_uris than track_names?"
   ]
  },
  {
   "cell_type": "code",
   "execution_count": 11,
   "id": "283e81de",
   "metadata": {},
   "outputs": [
    {
     "name": "stdout",
     "output_type": "stream",
     "text": [
      "0.0\n"
     ]
    }
   ],
   "source": [
    "n_names = len(mp_df['track_name'].unique())\n",
    "\n",
    "multi_id_tracks = []\n",
    "no_id_tracks = []\n",
    "unique_tracks = 0\n",
    "\n",
    "for i,track_name in enumerate(mp_df['track_name'].unique()):\n",
    "    if (i*100/n_names) % 10 == 0:\n",
    "        print((i*100/n_names))\n",
    "    filter = mp_df['track_name'] == track_name\n",
    "    if len(mp_df[filter]['track_uri'].unique()) > 1:\n",
    "        multi_id_tracks.append({\n",
    "            \"track_name\":track_name,\n",
    "            \"track_ids\":list(mp_df[filter]['track_uri'].unique()),\n",
    "            \"albums\":list(mp_df[filter]['album_name'].unique())\n",
    "            })\n",
    "        break\n",
    "    elif len(mp_df[filter]['track_uri'].unique()) == 0:\n",
    "        no_id_tracks.append(track_name)\n",
    "        break\n",
    "    else:\n",
    "        unique_tracks += 1"
   ]
  },
  {
   "cell_type": "code",
   "execution_count": 12,
   "id": "e3cd84b9",
   "metadata": {},
   "outputs": [
    {
     "data": {
      "text/plain": [
       "1"
      ]
     },
     "execution_count": 12,
     "metadata": {},
     "output_type": "execute_result"
    }
   ],
   "source": [
    "len(multi_id_tracks)"
   ]
  },
  {
   "cell_type": "code",
   "execution_count": 13,
   "id": "37ebe447",
   "metadata": {},
   "outputs": [
    {
     "data": {
      "text/plain": [
       "[{'track_name': 'Toxic',\n",
       "  'track_ids': ['spotify:track:6I9VzXrHxO9rA9A5euc8Ak',\n",
       "   'spotify:track:34ccBqL3xNaCzPxr0UqoEw'],\n",
       "  'albums': ['In The Zone', 'Rattlesnake!']}]"
      ]
     },
     "execution_count": 13,
     "metadata": {},
     "output_type": "execute_result"
    }
   ],
   "source": [
    "multi_id_tracks"
   ]
  },
  {
   "cell_type": "markdown",
   "id": "2ab1a7ff",
   "metadata": {},
   "source": [
    "### Conclusion\n",
    "\n",
    "Tracks with the same name and artist can still belong to different albums.\n",
    "\n",
    "Moving forward (track_name, artist) should be considered a unique identifier for a song."
   ]
  },
  {
   "cell_type": "markdown",
   "id": "77e576eb",
   "metadata": {},
   "source": [
    "## Compile dataframe from all JSON files"
   ]
  },
  {
   "cell_type": "code",
   "execution_count": 14,
   "id": "befe30d8",
   "metadata": {},
   "outputs": [],
   "source": [
    "def load_json_playlists(slice_start):\n",
    "    slice_end = slice_start+999\n",
    "\n",
    "    json_file_name = f'mpd.slice.{slice_start}-{slice_end}.json'\n",
    "\n",
    "    json_file_path = os.path.join(dataset_dir,json_file_name)\n",
    "\n",
    "    with open(json_file_path, 'r') as f:\n",
    "        json_file = json.load(f)\n",
    "\n",
    "    playlists = json_file['playlists']\n",
    "    return playlists"
   ]
  },
  {
   "cell_type": "code",
   "execution_count": 15,
   "id": "e11d8509",
   "metadata": {},
   "outputs": [
    {
     "name": "stdout",
     "output_type": "stream",
     "text": [
      "0, 0.0%, 0:00:00.026247\n",
      "100000, 10.0%, 0:01:32.410928\n",
      "200000, 20.0%, 0:03:05.799018\n",
      "300000, 30.0%, 0:04:38.968345\n",
      "400000, 40.0%, 0:06:12.867880\n",
      "500000, 50.0%, 0:07:53.683155\n",
      "600000, 60.0%, 0:09:29.330184\n",
      "700000, 70.0%, 0:11:22.206935\n",
      "800000, 80.0%, 0:13:19.086070\n",
      "900000, 90.0%, 0:15:04.608754\n"
     ]
    }
   ],
   "source": [
    "slice_start = 0\n",
    "output_dir = os.path.join('..','..','datasets','spotify_million_playlist_dataset','pkl')\n",
    "\n",
    "start_time = datetime.datetime.now()\n",
    "while slice_start < 1000000:\n",
    "    data = []\n",
    "    row = {\n",
    "        \"track_name\":\"\",\n",
    "        \"artist_name\":\"\",\n",
    "        \"album_name\":\"\",\n",
    "        \"playlist_name\":\"\",\n",
    "        \"track_uri\":\"\",\n",
    "        \"artist_uri\":\"\",\n",
    "    }\n",
    "    if((slice_start*100/1000000) % 10 == 0):\n",
    "        print(f\"{slice_start}, {(slice_start*100/1000000)}%, {datetime.datetime.now()-start_time}\")\n",
    "    playlists = load_json_playlists(slice_start)\n",
    "\n",
    "    for p_ix,playlist in enumerate(playlists):\n",
    "        row['playlist_name'] = playlist['name']\n",
    "        for track in playlist['tracks']:\n",
    "            row['track_name'] = track['track_name']\n",
    "            row['artist_name'] = track['artist_name']\n",
    "            row['album_name'] = track['album_name']\n",
    "            row['track_uri'] = track['track_uri']\n",
    "            row['artist_uri'] = track['artist_uri']\n",
    "            data.append(copy.deepcopy(row))\n",
    "\n",
    "    mp_df = pd.DataFrame(data = data)\n",
    "    output_file_path = os.path.join(output_dir,f'table-{slice_start}-{slice_start+999}.pkl')\n",
    "    mp_df.to_pickle(output_file_path)\n",
    "    slice_start += 1000"
   ]
  },
  {
   "cell_type": "code",
   "execution_count": 2,
   "id": "22a17668",
   "metadata": {},
   "outputs": [],
   "source": [
    "# big_df = []\n",
    "# file_count = 0\n",
    "# start_time = datetime.datetime.now()\n",
    "# for filename in os.listdir(output_dir):\n",
    "#     if((file_count*100/1000) % 10 == 0):\n",
    "#         print(f\"{file_count}, {(file_count*100/1000)}%, {datetime.datetime.now()-start_time}\")\n",
    "#     file_path = os.path.join(output_dir, filename)\n",
    "#     if os.path.isfile(file_path):  # skip subdirectories\n",
    "#         if len(big_df) == 0:\n",
    "#             big_df = pd.read_pickle(file_path)\n",
    "#         else:\n",
    "#             add_df = pd.read_pickle(file_path)\n",
    "#             big_df = pd.concat((big_df,add_df))\n",
    "#         file_count += 1\n",
    "# output_file_path = os.path.join(output_dir,f'table.pkl')\n",
    "# big_df.to_pickle(output_file_path)"
   ]
  },
  {
   "cell_type": "code",
   "execution_count": null,
   "id": "46fffea0",
   "metadata": {},
   "outputs": [],
   "source": []
  }
 ],
 "metadata": {
  "kernelspec": {
   "display_name": "learn-ds",
   "language": "python",
   "name": "python3"
  },
  "language_info": {
   "codemirror_mode": {
    "name": "ipython",
    "version": 3
   },
   "file_extension": ".py",
   "mimetype": "text/x-python",
   "name": "python",
   "nbconvert_exporter": "python",
   "pygments_lexer": "ipython3",
   "version": "3.9.7"
  }
 },
 "nbformat": 4,
 "nbformat_minor": 5
}
