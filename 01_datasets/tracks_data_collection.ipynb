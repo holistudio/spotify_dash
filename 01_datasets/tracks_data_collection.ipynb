{
 "cells": [
  {
   "cell_type": "markdown",
   "id": "39078859",
   "metadata": {},
   "source": [
    "# Data Collection\n",
    "\n",
    "Kaggle Spotify Tracks Dataset"
   ]
  },
  {
   "cell_type": "code",
   "execution_count": null,
   "id": "8990c4a0",
   "metadata": {},
   "outputs": [],
   "source": [
    "import requests\n",
    "import pandas as pd\n",
    "import os\n",
    "import json\n",
    "import copy"
   ]
  },
  {
   "cell_type": "code",
   "execution_count": null,
   "id": "e4091183",
   "metadata": {},
   "outputs": [],
   "source": [
    "dataset_dir = os.path.join('..','..','datasets','spotify_tracks_dataset')"
   ]
  }
 ],
 "metadata": {
  "kernelspec": {
   "display_name": "learn-ds",
   "language": "python",
   "name": "python3"
  },
  "language_info": {
   "name": "python",
   "version": "3.9.7"
  }
 },
 "nbformat": 4,
 "nbformat_minor": 5
}
