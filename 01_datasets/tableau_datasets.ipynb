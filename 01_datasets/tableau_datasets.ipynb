{
 "cells": [
  {
   "cell_type": "code",
   "execution_count": null,
   "id": "d1bb6555",
   "metadata": {},
   "outputs": [],
   "source": []
  },
  {
   "cell_type": "code",
   "execution_count": null,
   "id": "73ea5799",
   "metadata": {},
   "outputs": [],
   "source": [
    "import os\n",
    "import json\n",
    "import random\n",
    "import datetime\n",
    "\n",
    "import pandas as pd\n",
    "import numpy as np\n",
    "import matplotlib.pyplot as plt\n",
    "import seaborn as sns"
   ]
  },
  {
   "cell_type": "markdown",
   "id": "c8fb5a32",
   "metadata": {},
   "source": [
    "## Load Data"
   ]
  },
  {
   "cell_type": "code",
   "execution_count": null,
   "id": "09753609",
   "metadata": {},
   "outputs": [],
   "source": [
    "dataset_dir = os.path.join('..','..','datasets','tracks_playlist_dataset')\n",
    "\n",
    "word_bin_filepath = os.path.join(dataset_dir,'word_count_df.pkl')\n",
    "word_bin_df = pd.read_pickle(word_bin_filepath)"
   ]
  }
 ],
 "metadata": {
  "kernelspec": {
   "display_name": "learn-ds",
   "language": "python",
   "name": "python3"
  },
  "language_info": {
   "name": "python",
   "version": "3.9.7"
  }
 },
 "nbformat": 4,
 "nbformat_minor": 5
}
