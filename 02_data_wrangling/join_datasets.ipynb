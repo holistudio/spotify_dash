{
 "cells": [
  {
   "cell_type": "markdown",
   "id": "c8cb968a",
   "metadata": {},
   "source": [
    "# Combine Datasets\n",
    "\n",
    "Combine the Spotify Million Playlist and Kaggle Tracks Dataset"
   ]
  },
  {
   "cell_type": "code",
   "execution_count": null,
   "id": "bb17988c",
   "metadata": {},
   "outputs": [],
   "source": []
  },
  {
   "cell_type": "markdown",
   "id": "9ac77f2a",
   "metadata": {},
   "source": [
    "## Load Pickle Files"
   ]
  },
  {
   "cell_type": "code",
   "execution_count": null,
   "id": "b6aae4ce",
   "metadata": {},
   "outputs": [],
   "source": []
  },
  {
   "cell_type": "markdown",
   "id": "6a86d634",
   "metadata": {},
   "source": [
    "## Evaluate Overlap between Datasets\n",
    " \n",
    " - How are multi-artist track artists listed?\n",
    " - How many (track_name, artist_name) are shared between the two?\n",
    " - Is `track_id` in Tracks Dataset the same as `track_uri` in Million Playlist Dataset?\n",
    " - If so, what's the intersection count for `tracks.track_id == mp.track_uri`"
   ]
  },
  {
   "cell_type": "code",
   "execution_count": null,
   "id": "deb63823",
   "metadata": {},
   "outputs": [],
   "source": []
  }
 ],
 "metadata": {
  "kernelspec": {
   "display_name": "learn-ds",
   "language": "python",
   "name": "python3"
  },
  "language_info": {
   "name": "python",
   "version": "3.9.7"
  }
 },
 "nbformat": 4,
 "nbformat_minor": 5
}
