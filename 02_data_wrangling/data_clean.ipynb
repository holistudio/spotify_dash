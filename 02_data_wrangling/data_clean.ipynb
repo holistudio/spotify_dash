{
 "cells": [
  {
   "cell_type": "markdown",
   "id": "846c74de",
   "metadata": {},
   "source": [
    "# Clean Combined Dataset\n",
    "\n",
    "Remove as many \"non-vibe\" words from playlist names and get word occurence counts for each word"
   ]
  },
  {
   "cell_type": "code",
   "execution_count": 1,
   "id": "4630009f",
   "metadata": {},
   "outputs": [],
   "source": [
    "import pandas as pd\n",
    "import os\n",
    "import json\n",
    "import copy\n",
    "import datetime\n",
    "\n",
    "import re\n"
   ]
  },
  {
   "cell_type": "markdown",
   "id": "7052a07d",
   "metadata": {},
   "source": [
    "## Load combined dataset"
   ]
  },
  {
   "cell_type": "code",
   "execution_count": 2,
   "id": "deda4eca",
   "metadata": {},
   "outputs": [
    {
     "data": {
      "text/html": [
       "<div>\n",
       "<style scoped>\n",
       "    .dataframe tbody tr th:only-of-type {\n",
       "        vertical-align: middle;\n",
       "    }\n",
       "\n",
       "    .dataframe tbody tr th {\n",
       "        vertical-align: top;\n",
       "    }\n",
       "\n",
       "    .dataframe thead th {\n",
       "        text-align: right;\n",
       "    }\n",
       "</style>\n",
       "<table border=\"1\" class=\"dataframe\">\n",
       "  <thead>\n",
       "    <tr style=\"text-align: right;\">\n",
       "      <th></th>\n",
       "      <th>track_id</th>\n",
       "      <th>artists</th>\n",
       "      <th>album_name</th>\n",
       "      <th>track_name</th>\n",
       "      <th>popularity</th>\n",
       "      <th>duration_ms</th>\n",
       "      <th>explicit</th>\n",
       "      <th>danceability</th>\n",
       "      <th>energy</th>\n",
       "      <th>key</th>\n",
       "      <th>...</th>\n",
       "      <th>mode</th>\n",
       "      <th>speechiness</th>\n",
       "      <th>acousticness</th>\n",
       "      <th>instrumentalness</th>\n",
       "      <th>liveness</th>\n",
       "      <th>valence</th>\n",
       "      <th>tempo</th>\n",
       "      <th>time_signature</th>\n",
       "      <th>track_genre</th>\n",
       "      <th>playlist_names</th>\n",
       "    </tr>\n",
       "  </thead>\n",
       "  <tbody>\n",
       "    <tr>\n",
       "      <th>0</th>\n",
       "      <td>7k9GuJYLp2AzqokyEdwEw2</td>\n",
       "      <td>Ross Copperman</td>\n",
       "      <td>Hunger</td>\n",
       "      <td>Hunger</td>\n",
       "      <td>56</td>\n",
       "      <td>205594</td>\n",
       "      <td>False</td>\n",
       "      <td>0.442</td>\n",
       "      <td>0.632</td>\n",
       "      <td>1</td>\n",
       "      <td>...</td>\n",
       "      <td>1</td>\n",
       "      <td>0.0295</td>\n",
       "      <td>0.426</td>\n",
       "      <td>0.004190</td>\n",
       "      <td>0.0735</td>\n",
       "      <td>0.1960</td>\n",
       "      <td>78.899</td>\n",
       "      <td>4</td>\n",
       "      <td>acoustic</td>\n",
       "      <td>high, high, AUTUMN, Vampire Diaries, sleep, i ...</td>\n",
       "    </tr>\n",
       "    <tr>\n",
       "      <th>1</th>\n",
       "      <td>1KHdq8NK9QxnGjdXb55NiG</td>\n",
       "      <td>Landon Pigg</td>\n",
       "      <td>The Boy Who Never</td>\n",
       "      <td>Falling in Love at a Coffee Shop</td>\n",
       "      <td>58</td>\n",
       "      <td>244986</td>\n",
       "      <td>False</td>\n",
       "      <td>0.489</td>\n",
       "      <td>0.561</td>\n",
       "      <td>4</td>\n",
       "      <td>...</td>\n",
       "      <td>1</td>\n",
       "      <td>0.0274</td>\n",
       "      <td>0.200</td>\n",
       "      <td>0.000046</td>\n",
       "      <td>0.1790</td>\n",
       "      <td>0.2380</td>\n",
       "      <td>83.457</td>\n",
       "      <td>3</td>\n",
       "      <td>acoustic</td>\n",
       "      <td>Say You Won't Let Go, mellow, Dance, Chillin, ...</td>\n",
       "    </tr>\n",
       "    <tr>\n",
       "      <th>2</th>\n",
       "      <td>2qLMf6TuEC3ruGJg4SMMN6</td>\n",
       "      <td>Jason Mraz;Colbie Caillat</td>\n",
       "      <td>We Sing. We Dance. We Steal Things.</td>\n",
       "      <td>Lucky</td>\n",
       "      <td>68</td>\n",
       "      <td>189613</td>\n",
       "      <td>False</td>\n",
       "      <td>0.625</td>\n",
       "      <td>0.414</td>\n",
       "      <td>0</td>\n",
       "      <td>...</td>\n",
       "      <td>1</td>\n",
       "      <td>0.0369</td>\n",
       "      <td>0.294</td>\n",
       "      <td>0.000000</td>\n",
       "      <td>0.1510</td>\n",
       "      <td>0.6690</td>\n",
       "      <td>130.088</td>\n",
       "      <td>4</td>\n",
       "      <td>acoustic</td>\n",
       "      <td>Wedding, #boostyourrun, go to, Acoustic, 😍😍😍, ...</td>\n",
       "    </tr>\n",
       "    <tr>\n",
       "      <th>3</th>\n",
       "      <td>3S0OXQeoh0w6AY8WQVckRW</td>\n",
       "      <td>Jason Mraz</td>\n",
       "      <td>We Sing. We Dance. We Steal Things.</td>\n",
       "      <td>I'm Yours</td>\n",
       "      <td>75</td>\n",
       "      <td>242946</td>\n",
       "      <td>False</td>\n",
       "      <td>0.703</td>\n",
       "      <td>0.444</td>\n",
       "      <td>11</td>\n",
       "      <td>...</td>\n",
       "      <td>1</td>\n",
       "      <td>0.0417</td>\n",
       "      <td>0.559</td>\n",
       "      <td>0.000000</td>\n",
       "      <td>0.0973</td>\n",
       "      <td>0.7120</td>\n",
       "      <td>150.960</td>\n",
       "      <td>4</td>\n",
       "      <td>acoustic</td>\n",
       "      <td>tb, Catchy Songs, #boostyourrun, go to, Atlas,...</td>\n",
       "    </tr>\n",
       "    <tr>\n",
       "      <th>4</th>\n",
       "      <td>5TvE3pk05pyFIGdSY9j4DJ</td>\n",
       "      <td>A Great Big World;Christina Aguilera</td>\n",
       "      <td>Is There Anybody Out There? - Track by Track C...</td>\n",
       "      <td>Say Something</td>\n",
       "      <td>70</td>\n",
       "      <td>229400</td>\n",
       "      <td>False</td>\n",
       "      <td>0.407</td>\n",
       "      <td>0.147</td>\n",
       "      <td>2</td>\n",
       "      <td>...</td>\n",
       "      <td>1</td>\n",
       "      <td>0.0355</td>\n",
       "      <td>0.857</td>\n",
       "      <td>0.000003</td>\n",
       "      <td>0.0913</td>\n",
       "      <td>0.0765</td>\n",
       "      <td>141.284</td>\n",
       "      <td>3</td>\n",
       "      <td>acoustic</td>\n",
       "      <td>~Rando~, go to, Solitude, Acoustic, happy, yo,...</td>\n",
       "    </tr>\n",
       "  </tbody>\n",
       "</table>\n",
       "<p>5 rows × 21 columns</p>\n",
       "</div>"
      ],
      "text/plain": [
       "                 track_id                               artists  \\\n",
       "0  7k9GuJYLp2AzqokyEdwEw2                        Ross Copperman   \n",
       "1  1KHdq8NK9QxnGjdXb55NiG                           Landon Pigg   \n",
       "2  2qLMf6TuEC3ruGJg4SMMN6             Jason Mraz;Colbie Caillat   \n",
       "3  3S0OXQeoh0w6AY8WQVckRW                            Jason Mraz   \n",
       "4  5TvE3pk05pyFIGdSY9j4DJ  A Great Big World;Christina Aguilera   \n",
       "\n",
       "                                          album_name  \\\n",
       "0                                             Hunger   \n",
       "1                                  The Boy Who Never   \n",
       "2                We Sing. We Dance. We Steal Things.   \n",
       "3                We Sing. We Dance. We Steal Things.   \n",
       "4  Is There Anybody Out There? - Track by Track C...   \n",
       "\n",
       "                         track_name popularity duration_ms explicit  \\\n",
       "0                            Hunger         56      205594    False   \n",
       "1  Falling in Love at a Coffee Shop         58      244986    False   \n",
       "2                             Lucky         68      189613    False   \n",
       "3                         I'm Yours         75      242946    False   \n",
       "4                     Say Something         70      229400    False   \n",
       "\n",
       "   danceability  energy key  ...  mode speechiness  acousticness  \\\n",
       "0         0.442   0.632   1  ...     1      0.0295         0.426   \n",
       "1         0.489   0.561   4  ...     1      0.0274         0.200   \n",
       "2         0.625   0.414   0  ...     1      0.0369         0.294   \n",
       "3         0.703   0.444  11  ...     1      0.0417         0.559   \n",
       "4         0.407   0.147   2  ...     1      0.0355         0.857   \n",
       "\n",
       "   instrumentalness  liveness  valence    tempo  time_signature track_genre  \\\n",
       "0          0.004190    0.0735   0.1960   78.899               4    acoustic   \n",
       "1          0.000046    0.1790   0.2380   83.457               3    acoustic   \n",
       "2          0.000000    0.1510   0.6690  130.088               4    acoustic   \n",
       "3          0.000000    0.0973   0.7120  150.960               4    acoustic   \n",
       "4          0.000003    0.0913   0.0765  141.284               3    acoustic   \n",
       "\n",
       "                                      playlist_names  \n",
       "0  high, high, AUTUMN, Vampire Diaries, sleep, i ...  \n",
       "1  Say You Won't Let Go, mellow, Dance, Chillin, ...  \n",
       "2  Wedding, #boostyourrun, go to, Acoustic, 😍😍😍, ...  \n",
       "3  tb, Catchy Songs, #boostyourrun, go to, Atlas,...  \n",
       "4  ~Rando~, go to, Solitude, Acoustic, happy, yo,...  \n",
       "\n",
       "[5 rows x 21 columns]"
      ]
     },
     "execution_count": 2,
     "metadata": {},
     "output_type": "execute_result"
    }
   ],
   "source": [
    "dataset_dir = os.path.join('..','..','datasets','tracks_playlist_dataset')\n",
    "\n",
    "df_file_path = os.path.join(dataset_dir,'tracks_playlists_df.pkl')\n",
    "\n",
    "df = pd.read_pickle(df_file_path)\n",
    "df.head()"
   ]
  },
  {
   "cell_type": "code",
   "execution_count": 3,
   "id": "e48dd5a9",
   "metadata": {},
   "outputs": [
    {
     "data": {
      "text/plain": [
       "7560"
      ]
     },
     "execution_count": 3,
     "metadata": {},
     "output_type": "execute_result"
    }
   ],
   "source": [
    "len(df)"
   ]
  },
  {
   "cell_type": "markdown",
   "id": "179120af",
   "metadata": {},
   "source": [
    "## Analyze raw words in playlist names"
   ]
  },
  {
   "cell_type": "code",
   "execution_count": 4,
   "id": "96a8bca7",
   "metadata": {},
   "outputs": [],
   "source": [
    "track_id = '3S0OXQeoh0w6AY8WQVckRW'\n",
    "filter = df['track_id'] == track_id\n",
    "row = df[filter].iloc[0]\n",
    "playlist_names = row['playlist_names']\n",
    "playlist_names = playlist_names.split(',')"
   ]
  },
  {
   "cell_type": "code",
   "execution_count": 5,
   "id": "7c97f183",
   "metadata": {},
   "outputs": [
    {
     "data": {
      "text/plain": [
       "['tb',\n",
       " ' Catchy Songs',\n",
       " ' #boostyourrun',\n",
       " ' go to',\n",
       " ' Atlas',\n",
       " ' throwback',\n",
       " ' Acoustic',\n",
       " ' ((chris))',\n",
       " ' throw backs',\n",
       " ' Throwbacks ']"
      ]
     },
     "execution_count": 5,
     "metadata": {},
     "output_type": "execute_result"
    }
   ],
   "source": [
    "playlist_names[0:10]"
   ]
  },
  {
   "cell_type": "code",
   "execution_count": 6,
   "id": "68738752",
   "metadata": {},
   "outputs": [
    {
     "data": {
      "text/plain": [
       "[' Shower',\n",
       " ' throwback ',\n",
       " ' Stuff I like',\n",
       " ' Classics',\n",
       " ' good times',\n",
       " ' Throwback',\n",
       " ' Songs that never fail to make white people beyond turnt',\n",
       " ' kareoke',\n",
       " ' I love You',\n",
       " ' Lake']"
      ]
     },
     "execution_count": 6,
     "metadata": {},
     "output_type": "execute_result"
    }
   ],
   "source": [
    "playlist_names[-10:]"
   ]
  },
  {
   "cell_type": "code",
   "execution_count": 15,
   "id": "569df4bb",
   "metadata": {},
   "outputs": [],
   "source": [
    "track_id = '5TvE3pk05pyFIGdSY9j4DJ'\n",
    "filter = df['track_id'] == track_id\n",
    "row = df[filter].iloc[0]\n",
    "playlist_names = row['playlist_names']\n",
    "playlist_names = playlist_names.split(',')"
   ]
  },
  {
   "cell_type": "code",
   "execution_count": 16,
   "id": "41e88b48",
   "metadata": {},
   "outputs": [
    {
     "data": {
      "text/plain": [
       "['~Rando~',\n",
       " ' go to',\n",
       " ' Solitude',\n",
       " ' Acoustic',\n",
       " ' happy',\n",
       " ' yo',\n",
       " ' my heart',\n",
       " ' Isis',\n",
       " ' Top Hits',\n",
       " ' Mya']"
      ]
     },
     "execution_count": 16,
     "metadata": {},
     "output_type": "execute_result"
    }
   ],
   "source": [
    "playlist_names[0:10]"
   ]
  },
  {
   "cell_type": "code",
   "execution_count": 17,
   "id": "c6211d4a",
   "metadata": {},
   "outputs": [
    {
     "data": {
      "text/plain": [
       "[' Depressing songs',\n",
       " ' Easy Listening',\n",
       " ' GRAD',\n",
       " ' L.o.v.e',\n",
       " ' Ballads',\n",
       " ' Inside Out: So Emotional',\n",
       " ' Slow',\n",
       " ' feels',\n",
       " ' Sleep',\n",
       " ' sad times']"
      ]
     },
     "execution_count": 17,
     "metadata": {},
     "output_type": "execute_result"
    }
   ],
   "source": [
    "playlist_names[-10:]"
   ]
  },
  {
   "cell_type": "markdown",
   "id": "b2649d01",
   "metadata": {},
   "source": [
    "## Clean playlist names"
   ]
  },
  {
   "cell_type": "code",
   "execution_count": 7,
   "id": "51c2c72f",
   "metadata": {},
   "outputs": [],
   "source": [
    "# Articles\n",
    "articles = [\n",
    "    \"a\", \"an\", \"the\"\n",
    "]\n",
    "\n",
    "# Common Prepositions\n",
    "# prepositions = [\n",
    "#     \"about\", \"above\", \"across\", \"after\", \"against\", \"along\", \"among\",\n",
    "#     \"around\", \"at\", \"before\", \"behind\", \"below\", \"beneath\", \"beside\",\n",
    "#     \"besides\", \"between\", \"beyond\", \"but\", \"by\", \"concerning\", \"considering\",\n",
    "#     \"despite\", \"down\", \"during\", \"except\", \"excepting\", \"excluding\",\n",
    "#     \"following\", \"for\", \"from\", \"in\", \"inside\", \"into\", \"like\", \"minus\",\n",
    "#     \"near\", \"of\", \"off\", \"on\", \"onto\", \"opposite\", \"outside\", \"over\", \"past\",\n",
    "#     \"per\", \"plus\", \"regarding\", \"round\", \"save\", \"since\", \"than\", \"through\",\n",
    "#     \"to\", \"toward\", \"towards\", \"under\", \"underneath\", \"unlike\", \"until\",\n",
    "#     \"up\", \"upon\", \"versus\", \"via\", \"with\", \"within\", \"without\"\n",
    "# ]\n",
    "\n",
    "prepositions = [\n",
    "    \"about\", \"above\", \"across\", \"after\", \"against\", \"along\", \"among\",\n",
    "    \"around\", \"at\", \"before\", \"behind\", \"below\", \"beneath\", \"beside\",\n",
    "    \"besides\", \"between\", \"beyond\", \"but\", \"by\", \"concerning\", \"considering\",\n",
    "    \"despite\", \"down\", \"during\", \"except\", \"excepting\", \"excluding\",\n",
    "    \"following\", \"for\", \"from\", \"in\", \"inside\", \"into\", \"like\", \"minus\",\n",
    "    \"near\", \"of\", \"off\", \"on\", \"onto\", \"outside\", \"over\",\n",
    "    \"per\", \"plus\", \"regarding\", \"round\", \"since\", \"than\", \"through\",\n",
    "    \"to\", \"versus\", \"via\", \"with\", \"within\", \"without\"\n",
    "]\n",
    "\n",
    "# Pronouns (personal, possessive, reflexive, demonstrative, relative, interrogative, indefinite)\n",
    "pronouns = [\n",
    "    # Personal\n",
    "    \"i\", \"you\", \"he\", \"she\", \"it\", \"we\", \"they\", \"me\", \"him\", \"her\", \"us\", \"them\",\n",
    "    # Possessive\n",
    "    \"my\", \"mine\", \"your\", \"yours\", \"his\", \"her\", \"hers\", \"its\", \"our\", \"ours\", \"their\", \"theirs\",\n",
    "    # Reflexive\n",
    "    \"myself\", \"yourself\", \"himself\", \"herself\", \"itself\", \"ourselves\", \"yourselves\", \"themselves\",\n",
    "    # Demonstrative\n",
    "    \"this\", \"that\", \"these\", \"those\",\n",
    "    # Relative\n",
    "    \"who\", \"whom\", \"whose\", \"which\", \"that\",\n",
    "    # Interrogative\n",
    "    \"what\", \"which\", \"who\", \"whom\", \"whose\",\n",
    "    # Indefinite\n",
    "    \"anybody\", \"anyone\", \"anything\", \"each\", \"either\", \"everybody\", \"everyone\", \"everything\",\n",
    "    \"neither\", \"nobody\", \"no one\", \"nothing\", \"one\", \"somebody\", \"someone\", \"something\",\n",
    "    \"both\", \"few\", \"many\", \"several\", \"all\", \"any\", \"most\", \"none\", \"some\"\n",
    "]\n"
   ]
  },
  {
   "cell_type": "code",
   "execution_count": 8,
   "id": "77933892",
   "metadata": {},
   "outputs": [],
   "source": [
    "# remove synonyms for music/songs\n",
    "# music_stopwords = [\n",
    "#     # General music terms\n",
    "#     \"music\", \"song\", \"songs\", \"track\", \"tracks\", \"tune\", \"tunes\",\n",
    "#     \"melody\", \"melodies\", \"rhythm\", \"harmony\", \"lyrics\",\n",
    "    \n",
    "#     # Album / playlist words\n",
    "#     \"playlist\", \"mix\", \"compilation\", \"collection\", \"set\", \"jam\", \"jams\",\n",
    "#     \"record\", \"records\", \"album\", \"albums\", \"single\", \"singles\", \"ep\", \"lp\",\n",
    "    \n",
    "#     # Performance terms\n",
    "#     \"band\", \"bands\", \"group\", \"groups\", \"orchestra\", \"choir\", \"ensemble\",\n",
    "#     \"performance\", \"performances\", \"concert\", \"gig\", \"show\", \"live\",\n",
    "    \n",
    "#     # Listening context\n",
    "#     \"listen\", \"listening\", \"play\", \"played\", \"plays\", \"playing\",\n",
    "#     \"sound\", \"sounds\", \"audio\",\n",
    "    \n",
    "#     # Time/context in music\n",
    "#     \"remix\", \"remixes\", \"cover\", \"covers\", \"version\", \"versions\",\n",
    "#     \"original\", \"edit\", \"edits\", \"demo\", \"demos\",\n",
    "    \n",
    "#     # Streaming platform common words\n",
    "#     \"radio\", \"station\", \"stations\", \"session\", \"sessions\",\n",
    "    \n",
    "#     # Music role terms\n",
    "#     \"dj\", \"producer\", \"production\", \"artist\", \"artists\", \"musician\", \"musicians\",\n",
    "    \n",
    "#     # Genre meta-words (not actual genres)\n",
    "#     \"hit\", \"hits\", \"chart\", \"charts\", \"top\", \"best\", \"greatest\", \"favorites\", \"favourite\",\n",
    "#     \"new\", \"latest\", \"classic\", \"classics\", \"oldies\"\n",
    "# ]\n",
    "\n",
    "music_stopwords = [\n",
    "    # General music terms\n",
    "    \"music\", \"song\", \"songs\", \"track\", \"tracks\", \"tune\", \"tunes\",\n",
    "    \"melody\", \"melodies\", \"rhythm\", \"harmony\", \"lyrics\",\n",
    "    \n",
    "    # Album / playlist words\n",
    "    \"playlist\", \"mix\", \"compilation\", \"collection\", \"set\", \"jam\", \"jams\",\n",
    "    \"record\", \"records\", \"album\", \"albums\", \"single\", \"singles\", \"ep\", \"lp\",\n",
    "    \n",
    "    # Performance terms\n",
    "    \"band\", \"bands\", \"group\", \"groups\", \"orchestra\", \"choir\", \"ensemble\",\n",
    "    \"performance\", \"performances\", \"concert\", \"gig\", \"show\", \"live\",\n",
    "    \n",
    "    # Listening context\n",
    "    \"listen\", \"listening\", \"play\", \"played\", \"plays\", \"playing\",\n",
    "    \"sound\", \"sounds\", \"audio\",\n",
    "    \n",
    "    # Time/context in music\n",
    "    \"remix\", \"remixes\", \"cover\", \"covers\", \"version\", \"versions\",\n",
    "    \"original\", \"edit\", \"edits\", \"demo\", \"demos\",\n",
    "    \n",
    "    # Streaming platform common words\n",
    "    \"radio\", \"station\", \"stations\", \"session\", \"sessions\",\n",
    "    \n",
    "    # Music role terms\n",
    "    \"dj\", \"producer\", \"production\", \"artist\", \"artists\", \"musician\", \"musicians\",\n",
    "    \n",
    "    # Genre meta-words (not actual genres)\n",
    "    \"hit\", \"hits\", \"chart\", \"charts\", \"top\", \"best\", \"greatest\", \"favorites\", \"favourite\",\n",
    "    \"new\"\n",
    "]"
   ]
  },
  {
   "cell_type": "code",
   "execution_count": 9,
   "id": "58362fd9",
   "metadata": {},
   "outputs": [],
   "source": [
    "def clean_playlist_names(track_id):\n",
    "    # find track_id in DataFrame\n",
    "    filter = df['track_id'] == track_id\n",
    "    row = df[filter].iloc[0]\n",
    "\n",
    "    # get playlist names \n",
    "    playlist_names = row['playlist_names']\n",
    "\n",
    "    # convert to a list\n",
    "    playlist_names = playlist_names.split(',')\n",
    "\n",
    "    # separate into distinct words\n",
    "    playlist_words = []\n",
    "    for name in playlist_names:\n",
    "        # convert to lower case\n",
    "        n = name.lower()\n",
    "\n",
    "        # remove symbols and emojis\n",
    "        n = re.sub(r\"[^\\w\\s]\", \"\", n, flags=re.UNICODE)\n",
    "\n",
    "        # split based on spaces\n",
    "        n = n.split(' ')\n",
    "        \n",
    "        for word in n:\n",
    "            # exclude articles, prepositions, pronouns\n",
    "            exc0 = word == ''\n",
    "            exc1 = word in articles\n",
    "            exc2 = word in prepositions\n",
    "            exc3 = word in pronouns\n",
    "\n",
    "            # exclude music stop words\n",
    "            exc4 = word in music_stopwords\n",
    "\n",
    "            word_ok = not (exc0 or exc1 or exc2 or exc3)\n",
    "            \n",
    "            if word_ok:\n",
    "                playlist_words.append(word)\n",
    "\n",
    "    return playlist_words"
   ]
  },
  {
   "cell_type": "code",
   "execution_count": 10,
   "id": "423ea0ff",
   "metadata": {},
   "outputs": [],
   "source": [
    "playlist_words = clean_playlist_names(track_id=track_id)"
   ]
  },
  {
   "cell_type": "code",
   "execution_count": 11,
   "id": "9bc9aa7e",
   "metadata": {},
   "outputs": [
    {
     "data": {
      "text/plain": [
       "['tb',\n",
       " 'catchy',\n",
       " 'songs',\n",
       " 'boostyourrun',\n",
       " 'go',\n",
       " 'atlas',\n",
       " 'throwback',\n",
       " 'acoustic',\n",
       " 'chris',\n",
       " 'throw',\n",
       " 'backs',\n",
       " 'throwbacks',\n",
       " 'lm',\n",
       " 'mb',\n",
       " 'mya',\n",
       " 'main',\n",
       " '2000s',\n",
       " 'hits',\n",
       " 'roadtrip',\n",
       " 'roadtrip']"
      ]
     },
     "execution_count": 11,
     "metadata": {},
     "output_type": "execute_result"
    }
   ],
   "source": [
    "playlist_words[:20]"
   ]
  },
  {
   "cell_type": "code",
   "execution_count": 12,
   "id": "37a6201e",
   "metadata": {},
   "outputs": [
    {
     "data": {
      "text/plain": [
       "['good',\n",
       " 'ukulele',\n",
       " 'roadtrip',\n",
       " 'shower',\n",
       " 'throwback',\n",
       " 'stuff',\n",
       " 'classics',\n",
       " 'good',\n",
       " 'times',\n",
       " 'throwback',\n",
       " 'songs',\n",
       " 'never',\n",
       " 'fail',\n",
       " 'make',\n",
       " 'white',\n",
       " 'people',\n",
       " 'turnt',\n",
       " 'kareoke',\n",
       " 'love',\n",
       " 'lake']"
      ]
     },
     "execution_count": 12,
     "metadata": {},
     "output_type": "execute_result"
    }
   ],
   "source": [
    "playlist_words[-20:]"
   ]
  },
  {
   "cell_type": "code",
   "execution_count": 18,
   "id": "c3410580",
   "metadata": {},
   "outputs": [],
   "source": [
    "playlist_words = clean_playlist_names(track_id='5TvE3pk05pyFIGdSY9j4DJ')"
   ]
  },
  {
   "cell_type": "code",
   "execution_count": 19,
   "id": "2e0fcc96",
   "metadata": {},
   "outputs": [
    {
     "data": {
      "text/plain": [
       "['rando',\n",
       " 'go',\n",
       " 'solitude',\n",
       " 'acoustic',\n",
       " 'happy',\n",
       " 'yo',\n",
       " 'heart',\n",
       " 'isis',\n",
       " 'top',\n",
       " 'hits',\n",
       " 'mya',\n",
       " 'hayley',\n",
       " 'chill',\n",
       " 'playlist',\n",
       " 'chilly',\n",
       " 'other',\n",
       " 'breathe',\n",
       " 'jens',\n",
       " 'fallen',\n",
       " 'run']"
      ]
     },
     "execution_count": 19,
     "metadata": {},
     "output_type": "execute_result"
    }
   ],
   "source": [
    "playlist_words[:20]"
   ]
  },
  {
   "cell_type": "code",
   "execution_count": 20,
   "id": "0ff4372d",
   "metadata": {},
   "outputs": [
    {
     "data": {
      "text/plain": [
       "['together',\n",
       " 'confidence',\n",
       " 'ds',\n",
       " 'let',\n",
       " 'go',\n",
       " 'depressing',\n",
       " 'songs',\n",
       " 'easy',\n",
       " 'listening',\n",
       " 'grad',\n",
       " 'love',\n",
       " 'ballads',\n",
       " 'out',\n",
       " 'so',\n",
       " 'emotional',\n",
       " 'slow',\n",
       " 'feels',\n",
       " 'sleep',\n",
       " 'sad',\n",
       " 'times']"
      ]
     },
     "execution_count": 20,
     "metadata": {},
     "output_type": "execute_result"
    }
   ],
   "source": [
    "playlist_words[-20:]"
   ]
  },
  {
   "cell_type": "code",
   "execution_count": 21,
   "id": "a075352b",
   "metadata": {},
   "outputs": [
    {
     "data": {
      "text/plain": [
       "14333"
      ]
     },
     "execution_count": 21,
     "metadata": {},
     "output_type": "execute_result"
    }
   ],
   "source": [
    "len(playlist_words)"
   ]
  },
  {
   "cell_type": "code",
   "execution_count": 22,
   "id": "102c5ddf",
   "metadata": {},
   "outputs": [
    {
     "data": {
      "text/plain": [
       "2246"
      ]
     },
     "execution_count": 22,
     "metadata": {},
     "output_type": "execute_result"
    }
   ],
   "source": [
    "len(set(playlist_words))"
   ]
  },
  {
   "cell_type": "code",
   "execution_count": 13,
   "id": "51c78475",
   "metadata": {},
   "outputs": [],
   "source": [
    "# TODO: remove 's' from plural forms of words"
   ]
  },
  {
   "cell_type": "markdown",
   "id": "aa0354f9",
   "metadata": {},
   "source": [
    "## Get word bin counts for each track"
   ]
  },
  {
   "cell_type": "code",
   "execution_count": null,
   "id": "0704aebf",
   "metadata": {},
   "outputs": [],
   "source": [
    "# for each track_id\n",
    "\n",
    "# get clean playlist words\n",
    "\n",
    "# get unique playlist words\n",
    "\n",
    "# create a dictionary with each unique word as a key with value = 0\n",
    "\n",
    "# go through the clean playlist words and tabulate using the dictionary\n",
    "\n",
    "# convert into a list of words sorted by bin count"
   ]
  }
 ],
 "metadata": {
  "kernelspec": {
   "display_name": "learn-ds",
   "language": "python",
   "name": "python3"
  },
  "language_info": {
   "codemirror_mode": {
    "name": "ipython",
    "version": 3
   },
   "file_extension": ".py",
   "mimetype": "text/x-python",
   "name": "python",
   "nbconvert_exporter": "python",
   "pygments_lexer": "ipython3",
   "version": "3.9.7"
  }
 },
 "nbformat": 4,
 "nbformat_minor": 5
}
