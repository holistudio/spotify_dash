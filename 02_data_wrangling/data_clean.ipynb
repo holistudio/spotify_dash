{
 "cells": [
  {
   "cell_type": "code",
   "execution_count": null,
   "id": "4630009f",
   "metadata": {},
   "outputs": [],
   "source": []
  },
  {
   "cell_type": "code",
   "execution_count": null,
   "id": "f26fd581",
   "metadata": {},
   "outputs": [],
   "source": [
    "# all lowercase\n",
    "\n",
    "# remove separators (spaces, commas, '_', etc)\n",
    "\n",
    "# remove 'a', 'the'\n",
    "\n",
    "# remove prepositions ('on', 'of')"
   ]
  }
 ],
 "metadata": {
  "kernelspec": {
   "display_name": "learn-ds",
   "language": "python",
   "name": "python3"
  },
  "language_info": {
   "name": "python",
   "version": "3.9.7"
  }
 },
 "nbformat": 4,
 "nbformat_minor": 5
}
